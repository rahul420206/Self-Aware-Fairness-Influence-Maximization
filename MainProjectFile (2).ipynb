{
  "cells": [
    {
      "cell_type": "markdown",
      "metadata": {
        "collapsed": false,
        "id": "pZKpt6PD-ak_"
      },
      "source": [
        "### Necessary Set-up"
      ]
    },
    {
      "cell_type": "code",
      "execution_count": null,
      "metadata": {
        "id": "dZYIX3X5-alA"
      },
      "outputs": [],
      "source": [
        "import numpy as np\n",
        "import networkx as nx\n",
        "import pandas as pd\n",
        "import tensorflow as tf\n",
        "\n",
        "from sklearn.manifold import TSNE\n",
        "import matplotlib.pyplot as plt\n",
        "\n",
        "from tensorflow.keras import Sequential, Model\n",
        "from tensorflow.keras.layers import Dense, Dropout, Flatten, Input, Embedding\n",
        "from tensorflow.python.ops.losses import losses\n",
        "\n",
        "\n",
        "import time\n",
        "from sklearn.cluster import KMeans\n",
        "from sklearn.cluster import SpectralClustering\n",
        "from tensorflow.python.client import device_lib\n",
        "\n",
        "# from sklearn.manifold import TSNE\n",
        "\n",
        "\n",
        "tsne_model = TSNE(learning_rate=100)"
      ]
    },
    {
      "cell_type": "code",
      "execution_count": null,
      "metadata": {
        "colab": {
          "base_uri": "https://localhost:8080/"
        },
        "id": "HfUVvlm8-alB",
        "outputId": "2a468e9c-f3c6-43af-ed1e-52160e597f72"
      },
      "outputs": [
        {
          "output_type": "stream",
          "name": "stdout",
          "text": [
            "[name: \"/device:CPU:0\"\n",
            "device_type: \"CPU\"\n",
            "memory_limit: 268435456\n",
            "locality {\n",
            "}\n",
            "incarnation: 5634096053948997665\n",
            "xla_global_id: -1\n",
            ", name: \"/device:GPU:0\"\n",
            "device_type: \"GPU\"\n",
            "memory_limit: 14626652160\n",
            "locality {\n",
            "  bus_id: 1\n",
            "  links {\n",
            "  }\n",
            "}\n",
            "incarnation: 1518388938346130374\n",
            "physical_device_desc: \"device: 0, name: Tesla T4, pci bus id: 0000:00:04.0, compute capability: 7.5\"\n",
            "xla_global_id: 416903419\n",
            "]\n",
            "Num GPUs Available:  1\n"
          ]
        }
      ],
      "source": [
        "tf.__version__\n",
        "print(device_lib.list_local_devices())\n",
        "print(\"Num GPUs Available: \", len(tf.config.experimental.list_physical_devices('GPU')))"
      ]
    },
    {
      "cell_type": "markdown",
      "metadata": {
        "collapsed": false,
        "id": "Oama-6Yj-alC"
      },
      "source": [
        "### The Embedder Model"
      ]
    },
    {
      "cell_type": "markdown",
      "metadata": {
        "collapsed": false,
        "id": "N5l7r4Dg-alC"
      },
      "source": [
        "#### Model Architecture, Losses and Accuracy"
      ]
    },
    {
      "cell_type": "markdown",
      "metadata": {
        "collapsed": false,
        "id": "RDXgS2No-alC"
      },
      "source": [
        "##### The Encoder Model"
      ]
    },
    {
      "cell_type": "code",
      "execution_count": null,
      "metadata": {
        "id": "OhRgWHZK-alC"
      },
      "outputs": [],
      "source": [
        "def build_encoder(embedding_size):\n",
        "  model = Sequential()\n",
        "\n",
        "  # The first encoder layer\n",
        "  model.add(Dense(embedding_size*4, activation='relu'))\n",
        "\n",
        "  # The second encoder layer\n",
        "  model.add(Dense(embedding_size*2, activation='relu'))\n",
        "\n",
        "  # The output layer\n",
        "  model.add(Dense(embedding_size, activation='relu'))\n",
        "\n",
        "  return model\n"
      ]
    },
    {
      "cell_type": "markdown",
      "metadata": {
        "collapsed": false,
        "id": "SjlOcnBm-alC"
      },
      "source": [
        "##### The Decoder Model"
      ]
    },
    {
      "cell_type": "code",
      "execution_count": null,
      "metadata": {
        "id": "7loQJ5fJ-alC"
      },
      "outputs": [],
      "source": [
        "def build_decoder(embedding_size, output_size):\n",
        "  model = Sequential()\n",
        "\n",
        "  # The first decoder layer\n",
        "  model.add(Dense(embedding_size*2, activation='relu'))\n",
        "\n",
        "  # The secod decoder layer\n",
        "  model.add(Dense(embedding_size*4, activation='relu'))\n",
        "\n",
        "  # The third decoder layer\n",
        "  model.add(Dense(output_size, activation='sigmoid'))\n",
        "\n",
        "  return model\n"
      ]
    },
    {
      "cell_type": "markdown",
      "metadata": {
        "collapsed": false,
        "id": "xcJXCJc6-alD"
      },
      "source": [
        "##### Putting together the Ecnoder and Decoder into an AutoEncoder"
      ]
    },
    {
      "cell_type": "code",
      "execution_count": null,
      "metadata": {
        "id": "0ZFAdN5_-alD"
      },
      "outputs": [],
      "source": [
        "def build_ae(encoder, decoder, output_size):\n",
        "\n",
        "  input_tensor = Input(shape=(output_size,))\n",
        "  embeddings = encoder(input_tensor)\n",
        "  reconstructions = decoder(embeddings)\n",
        "\n",
        "  auto_encoder = Model(input_tensor, reconstructions)\n",
        "\n",
        "  return auto_encoder"
      ]
    },
    {
      "cell_type": "markdown",
      "metadata": {
        "collapsed": false,
        "id": "2eyI1Mm1-alD"
      },
      "source": [
        "##### The Auto-encoder Loss and Acuraccy"
      ]
    },
    {
      "cell_type": "code",
      "execution_count": null,
      "metadata": {
        "id": "HeHo8NJL-alD"
      },
      "outputs": [],
      "source": [
        "def recon_loss(x, x_hat):\n",
        "\n",
        "  return tf.reduce_sum(tf.keras.losses.binary_crossentropy(x, x_hat))"
      ]
    },
    {
      "cell_type": "code",
      "execution_count": null,
      "metadata": {
        "id": "7fBzO3lE-alD"
      },
      "outputs": [],
      "source": [
        "def first_order_loss(X, Z):\n",
        "\n",
        "    X = tf.cast(X, tf.float32)\n",
        "    Z= tf.cast(Z, tf.float32)\n",
        "\n",
        "    D = tf.linalg.diag(tf.reduce_sum(X,1))\n",
        "    L = D - X ## L is laplation-matriX\n",
        "\n",
        "    return 2*tf.linalg.trace(tf.matmul(tf.matmul(tf.transpose(Z),L),Z))"
      ]
    },
    {
      "cell_type": "code",
      "execution_count": null,
      "metadata": {
        "id": "sV9F9onr-alD"
      },
      "outputs": [],
      "source": [
        "def ae_adversarial_loss(X, Z, x, x_hat, d_z0, d_z1, first_order, alpha):\n",
        "\n",
        "  # Recon loss\n",
        "  reccon_loss = recon_loss(x, x_hat)\n",
        "  f1_loss = first_order_loss(X, Z)\n",
        "\n",
        "  if first_order =='with_f1':\n",
        "      reccon_loss += alpha * f1_loss\n",
        "\n",
        "  ### Loss 2 -> Same as the loss of the generator\n",
        "  adversarial_loss = tf.reduce_sum(tf.keras.losses.binary_crossentropy(tf.ones_like(d_z0), d_z0)) + \\\n",
        "                     tf.reduce_sum(tf.keras.losses.binary_crossentropy(tf.zeros_like(d_z1), d_z1))\n",
        "\n",
        "  return  reccon_loss  + 10 * adversarial_loss"
      ]
    },
    {
      "cell_type": "code",
      "execution_count": null,
      "metadata": {
        "id": "ySAo_VSf-alD"
      },
      "outputs": [],
      "source": [
        "def ae_accuracy(x, x_hat):\n",
        "  round_x_hat = tf.round(x_hat)\n",
        "  return tf.reduce_mean(tf.cast(tf.equal(x, round_x_hat), tf.float32))"
      ]
    },
    {
      "cell_type": "markdown",
      "metadata": {
        "collapsed": false,
        "id": "tsmU0003-alE"
      },
      "source": [
        "#### Pretraining the Embedder"
      ]
    },
    {
      "cell_type": "code",
      "execution_count": null,
      "metadata": {
        "id": "rgZZcFxt-alE"
      },
      "outputs": [],
      "source": [
        "def pretrain_step_embd(X, x, encoder, decoder, auto_encoder, pre_optimizer, first_order, alpha):\n",
        "\n",
        "  with tf.GradientTape() as pre_tape:\n",
        "    z = encoder(x, training=True)\n",
        "    x_hat = decoder(z, training=True)\n",
        "\n",
        "    Z = encoder(X, training=True)\n",
        "\n",
        "    pre_loss = recon_loss(x, x_hat)\n",
        "\n",
        "    if first_order == 'with_f1':\n",
        "        pre_loss += alpha * first_order_loss(X, Z)\n",
        "\n",
        "\n",
        "  pre_gradients = pre_tape.gradient(pre_loss, auto_encoder.trainable_variables)\n",
        "  pre_optimizer.apply_gradients(zip(pre_gradients, auto_encoder.trainable_variables))\n",
        "\n",
        "  pre_acc = ae_accuracy(x, x_hat)\n",
        "\n",
        "  return tf.reduce_mean(pre_loss), pre_acc"
      ]
    },
    {
      "cell_type": "code",
      "execution_count": null,
      "metadata": {
        "id": "JnA1yi4t-alE"
      },
      "outputs": [],
      "source": [
        "def pretrain_embd(X, idxs, encoder, decoder, auto_encoder, pre_optimizer, first_order, alpha):\n",
        "  np.random.shuffle(idxs)\n",
        "  PRE_EPOCHS = 300\n",
        "  Batch_size = 50\n",
        "\n",
        "  for epoch in range(PRE_EPOCHS):\n",
        "\n",
        "    epoch_losses = []\n",
        "    epoch_acc = []\n",
        "\n",
        "    for batch_idx in range(0, len(idxs), Batch_size):\n",
        "\n",
        "      selected_idxs = idxs[batch_idx : batch_idx + Batch_size]\n",
        "      adjacency_batch = X[selected_idxs, :]\n",
        "\n",
        "      loss, accuracy= pretrain_step_embd(X, tf.cast(adjacency_batch, tf.float32), encoder, decoder, auto_encoder, pre_optimizer, first_order, alpha)\n",
        "\n",
        "      epoch_losses.append(loss)\n",
        "      epoch_acc.append(accuracy)\n",
        "\n",
        "#     if epoch % 50 == 0:\n",
        "#        print(f\"Loss is {np.array(epoch_losses).mean()} and accuracy is {np.array(epoch_acc).mean()}\")"
      ]
    },
    {
      "cell_type": "markdown",
      "metadata": {
        "collapsed": false,
        "id": "YczBMtWA-alE"
      },
      "source": [
        "### The Discriminator Model"
      ]
    },
    {
      "cell_type": "markdown",
      "metadata": {
        "collapsed": false,
        "id": "zKywB1Bf-alE"
      },
      "source": [
        "#### Model Architecture"
      ]
    },
    {
      "cell_type": "code",
      "execution_count": null,
      "metadata": {
        "id": "BUia8oCY-alE"
      },
      "outputs": [],
      "source": [
        "def build_discriminator(embedding_size):\n",
        "  model = Sequential()\n",
        "\n",
        "  # The input layer\n",
        "  model.add(Input(shape=(embedding_size,)))\n",
        "\n",
        "  # The first hidden layer\n",
        "  model.add(Dense(25, activation='relu'))\n",
        "  model.add(Dropout(0.25))\n",
        "\n",
        "  # The second layer\n",
        "  model.add(Dense(15, activation='relu'))\n",
        "  model.add(Dropout(0.20))\n",
        "\n",
        "  # The third layer\n",
        "  model.add(Dense(6, activation='relu'))\n",
        "  model.add(Dropout(0.20))\n",
        "\n",
        "  model.add(Dense(1, activation = 'sigmoid'))\n",
        "\n",
        "  return model"
      ]
    },
    {
      "cell_type": "code",
      "execution_count": null,
      "metadata": {
        "id": "3UgPLBz4-alE"
      },
      "outputs": [],
      "source": [
        "def disc_loss_function(d_z0, d_z1):\n",
        "\n",
        "  loss_zero = tf.keras.losses.binary_crossentropy(tf.zeros_like(d_z0), d_z0)\n",
        "  loss_one = tf.keras.losses.binary_crossentropy(tf.ones_like(d_z1), d_z1)\n",
        "\n",
        "  return tf.cast(loss_zero, tf.float32) + tf.cast(loss_one, tf.float32)"
      ]
    },
    {
      "cell_type": "markdown",
      "metadata": {
        "collapsed": false,
        "id": "5XTr1uoH-alE"
      },
      "source": [
        "#### Joint Training in a step"
      ]
    },
    {
      "cell_type": "code",
      "execution_count": null,
      "metadata": {
        "id": "zI5s4_uz-alE"
      },
      "outputs": [],
      "source": [
        "def train_step(X, x0, x1, encoder, decoder, auto_encoder, discriminator, ae_optimizer, disc_optimizer, first_order, alpha):\n",
        "  with tf.GradientTape() as ae_tape, tf.GradientTape() as disc_tape:\n",
        "\n",
        "    z0 = encoder(x0, training=True)\n",
        "    z1 = encoder(x1, training=True)\n",
        "\n",
        "    Z = encoder(X, training=True)\n",
        "\n",
        "    d_z0 = discriminator(z0, training=True)\n",
        "    d_z1 = discriminator(z1, training=True)\n",
        "\n",
        "    x0_hat = decoder(z0, training=True)\n",
        "    x1_hat = decoder(z1, training = True)\n",
        "\n",
        "\n",
        "    ae_loss = ae_adversarial_loss(X, Z, tf.concat([x0, x1], 0), tf.concat([x0_hat, x1_hat], 0), d_z0, d_z1, first_order, alpha)\n",
        "    disc_loss = disc_loss_function(d_z0, d_z1)\n",
        "\n",
        "\n",
        "  gradients_ae = ae_tape.gradient(ae_loss, auto_encoder.trainable_variables)\n",
        "  gradients_disc = disc_tape.gradient(disc_loss, discriminator.trainable_variables)\n",
        "\n",
        "  ae_optimizer.apply_gradients(zip(gradients_ae, auto_encoder.trainable_variables))\n",
        "  disc_optimizer.apply_gradients(zip(gradients_disc, discriminator.trainable_variables))\n",
        "\n",
        "  ae_acc = ae_accuracy(tf.concat([x0, x1], 0), tf.concat([x0_hat, x1_hat], 0))\n",
        "\n",
        "  return tf.reduce_mean(ae_loss), ae_acc, tf.reduce_mean(disc_loss)"
      ]
    },
    {
      "cell_type": "markdown",
      "metadata": {
        "collapsed": false,
        "id": "CdMtMAb5-alF"
      },
      "source": [
        "#### Pretrain Step for Discriminator"
      ]
    },
    {
      "cell_type": "code",
      "execution_count": null,
      "metadata": {
        "id": "07nNN4QH-alF"
      },
      "outputs": [],
      "source": [
        "def pretrain_step_disc(x0, x1, encoder, discriminator, disc_pre_optimizer):\n",
        "\n",
        "  z0 = encoder(x0)\n",
        "  z1 = encoder(x1)\n",
        "\n",
        "  with tf.GradientTape() as disc_tape_sep:\n",
        "\n",
        "    d_z0= discriminator(z0, training=True)\n",
        "    d_z1 = discriminator(z1, training=True)\n",
        "\n",
        "    disc_loss = disc_loss_function(d_z0, d_z1)\n",
        "\n",
        "\n",
        "  gradients_disc = disc_tape_sep.gradient(disc_loss, discriminator.trainable_variables)\n",
        "  disc_pre_optimizer.apply_gradients(zip(gradients_disc, discriminator.trainable_variables))\n",
        "\n",
        "  return tf.reduce_mean(disc_loss)"
      ]
    },
    {
      "cell_type": "markdown",
      "metadata": {
        "collapsed": false,
        "id": "xu1HlHDo-alF"
      },
      "source": [
        "#### Pretraining the discriminator"
      ]
    },
    {
      "cell_type": "code",
      "execution_count": null,
      "metadata": {
        "id": "1qDtJUv6-alF"
      },
      "outputs": [],
      "source": [
        "def pretrain_disc(X, idxs_zeros, idxs_ones, encoder, discriminator, disc_pre_optimizer):\n",
        "\n",
        "  EPOCHS = 40\n",
        "\n",
        "  np.random.shuffle(idxs_zeros)\n",
        "  np.random.shuffle(idxs_ones)\n",
        "  Batch_size = 50\n",
        "\n",
        "  for epoch in range(EPOCHS):\n",
        "    for batch_idx in range(0, len(idxs_ones), Batch_size):\n",
        "\n",
        "      selected_zeros = idxs_zeros[batch_idx : batch_idx + Batch_size]\n",
        "      selected_ones = idxs_ones[batch_idx : batch_idx + Batch_size]\n",
        "\n",
        "      x0 = X[selected_zeros]\n",
        "      x1 = X[selected_ones]\n",
        "\n",
        "      pretrain_step_disc(x0, x1, encoder, discriminator, disc_pre_optimizer)\n"
      ]
    },
    {
      "cell_type": "markdown",
      "metadata": {
        "collapsed": false,
        "id": "c7COma4n-alF"
      },
      "source": [
        "#### The Train Loop"
      ]
    },
    {
      "cell_type": "code",
      "execution_count": null,
      "metadata": {
        "id": "sWUzKb7T-alF"
      },
      "outputs": [],
      "source": [
        "def adversarial_train(X, idxs_zeros, idxs_ones, encoder, decoder, auto_encoder, discriminator, ae_optimizer, disc_optimizer, first_order, alpha):\n",
        "    EPOCHS = 500\n",
        "\n",
        "    np.random.shuffle(idxs_zeros)\n",
        "    np.random.shuffle(idxs_ones)\n",
        "\n",
        "    Batch_size = 50\n",
        "\n",
        "    for epoch in range(EPOCHS):\n",
        "        for batch_idx in range(0, len(idxs_ones), Batch_size):\n",
        "\n",
        "          selected_zeros = idxs_zeros[batch_idx : batch_idx + Batch_size]\n",
        "          selected_ones = idxs_ones[batch_idx : batch_idx + Batch_size]\n",
        "\n",
        "          x0 = X[selected_zeros]\n",
        "          x1 = X[selected_ones]\n",
        "\n",
        "          ### Joint Training\n",
        "          train_step(X, tf.cast(x0, tf.float32), tf.cast(x1, tf.float32), encoder, decoder,\n",
        "                                                     auto_encoder, discriminator, ae_optimizer, disc_optimizer, first_order, alpha)"
      ]
    },
    {
      "cell_type": "markdown",
      "metadata": {
        "collapsed": false,
        "id": "pTWUnH7B-alF"
      },
      "source": [
        "### Piciking the Seeds Using Embedding"
      ]
    },
    {
      "cell_type": "code",
      "source": [
        "def get_seeds_KMeans(N_CLUS, embedding, nodes, labels, nodes_zero, nodes_one, strategy, n_seeds):\n",
        "    '''\n",
        "    stratgey can be random, nearest, fair, re-cluster, fair_re-cluster\n",
        "    '''\n",
        "\n",
        "    # model = KMeans(n_clusters=N_CLUS)\n",
        "    model = KMeans(n_clusters=N_CLUS, n_init = 10)\n",
        "    model.fit(embedding)\n",
        "\n",
        "    cluster_number = model.labels_\n",
        "    centers = model.cluster_centers_\n",
        "\n",
        "    seed_ids = [[] for i in range(N_CLUS)]\n",
        "\n",
        "    for i in range(N_CLUS):\n",
        "\n",
        "        if strategy == 'nearest':\n",
        "          sorted_distance = np.array(sorted([[np.sqrt(np.sum(np.power(centers[i] - embedding[j], 2))), j] for j in range(len(embedding)) if i == cluster_number[j]]))\n",
        "          seed_ids[i].extend(list(sorted_distance[:n_seeds, 1]))\n",
        "\n",
        "\n",
        "        elif strategy == 're-cluster':\n",
        "          temp = []\n",
        "          sorted_distance = np.array(sorted([[np.sqrt(np.sum(np.power(centers[i] - embedding[j], 2))), j] for j in range(len(embedding)) if i == cluster_number[j]]))\n",
        "          temp.extend(list(sorted_distance[:n_seeds, 1]))\n",
        "\n",
        "          portion_zero = 0\n",
        "          portion_one = 0\n",
        "\n",
        "          for num in temp:\n",
        "            if num in nodes_zero:\n",
        "              portion_zero += 1\n",
        "            elif num in nodes_one:\n",
        "              portion_one += 1\n",
        "\n",
        "          zero_in_clus = embedding[np.logical_and(cluster_number == i, labels == 0)]\n",
        "          zero_inds = nodes[np.logical_and(cluster_number == i, labels == 0)]\n",
        "\n",
        "          one_in_clus = embedding[np.logical_and(cluster_number == i, labels == 1)]\n",
        "          one_inds = nodes[np.logical_and(cluster_number == i, labels == 1)]\n",
        "\n",
        "          added_to_zero = 0\n",
        "          if len(zero_in_clus) != 0:\n",
        "              model_on_zero = KMeans(n_clusters=1, n_init = 2)\n",
        "              model_on_zero.fit(zero_in_clus)\n",
        "              center_zero = model_on_zero.cluster_centers_\n",
        "\n",
        "              sorted_distance_zero = np.array(sorted([[np.sqrt(np.sum(np.power(center_zero - zero_in_clus[j], 2))), j] for j in range(len(zero_in_clus))]))\n",
        "              seed_ids[i].extend([zero_inds[int(i)] for i in sorted_distance_zero[:portion_zero, 1]])\n",
        "\n",
        "              added_to_zero = len(seed_ids[i])\n",
        "              assert added_to_zero == portion_zero\n",
        "\n",
        "          added_to_one = 0\n",
        "          if len(one_in_clus) != 0:\n",
        "              model_on_one = KMeans(n_clusters=1, n_init = 2)\n",
        "              model_on_one.fit(one_in_clus)\n",
        "              center_one = model_on_one.cluster_centers_\n",
        "\n",
        "              sorted_distance_one = np.array(sorted([[np.sqrt(np.sum(np.power(center_one - one_in_clus[j], 2))), j] for j in range(len(one_in_clus))]))\n",
        "              seed_ids[i].extend([one_inds[int(i)] for i in sorted_distance_one[:portion_one, 1]])\n",
        "\n",
        "              added_to_one = len(seed_ids[i]) - added_to_zero\n",
        "              assert added_to_one == portion_one\n",
        "\n",
        "          assert n_seeds == added_to_zero + added_to_one\n",
        "          assert len(seed_ids[i]) == n_seeds\n",
        "\n",
        "    return np.reshape(seed_ids, newshape=(-1, ))"
      ],
      "metadata": {
        "id": "jD3A917-IX5k"
      },
      "execution_count": null,
      "outputs": []
    },
    {
      "cell_type": "code",
      "execution_count": null,
      "metadata": {
        "id": "G4UzN9RO-alF"
      },
      "outputs": [],
      "source": [
        "def get_seeds_Spectral_Clustering(N_CLUS, embeddings, nodes, labels, nodes_zero, nodes_one, strategy, n_seeds):\n",
        "    model = SpectralClustering(n_clusters=N_CLUS, affinity='nearest_neighbors', random_state=0)\n",
        "    cluster_labels = model.fit_predict(embeddings)\n",
        "\n",
        "    seed_ids = [[] for _ in range(N_CLUS)]\n",
        "\n",
        "    for i in range(N_CLUS):\n",
        "        cluster_nodes = [node for node, label in zip(nodes, cluster_labels) if label == i]\n",
        "        seed_ids[i].extend(cluster_nodes[:n_seeds])\n",
        "\n",
        "    return np.array(seed_ids).flatten()"
      ]
    },
    {
      "cell_type": "markdown",
      "metadata": {
        "collapsed": false,
        "id": "R5bC8ZAj-alG"
      },
      "source": [
        "### The IC algorithm"
      ]
    },
    {
      "cell_type": "code",
      "execution_count": null,
      "metadata": {
        "id": "I5LMVPzC-alG"
      },
      "outputs": [],
      "source": [
        "def IC(G, seeds, imp_prob, recover_prob = 0, remove = 0):\n",
        "\n",
        "    impressed = []\n",
        "    removed = []\n",
        "    front = list(seeds[:])\n",
        "\n",
        "    while front:\n",
        "        impressed.extend(front)\n",
        "        impressed = np.array(impressed)\n",
        "\n",
        "        if recover_prob != 0:\n",
        "\n",
        "            random_draws = np.random.uniform(size=len(impressed))\n",
        "\n",
        "            if remove:\n",
        "                removed.extend(impressed[random_draws < recover_prob])\n",
        "                removed = list(set(removed))\n",
        "\n",
        "            impressed = impressed[random_draws >= recover_prob]\n",
        "\n",
        "        impressed = list(impressed)\n",
        "        new_front = []\n",
        "\n",
        "        for node in front:\n",
        "\n",
        "            neighbours = list(G.neighbors(node))\n",
        "\n",
        "            for neigh in neighbours:\n",
        "\n",
        "                expr_prob = np.random.uniform(size=1)[0]\n",
        "                if expr_prob < imp_prob and not (neigh in impressed) and not (neigh in new_front) and not (neigh in removed):\n",
        "                    new_front.append(neigh)\n",
        "\n",
        "        front = new_front[:]\n",
        "\n",
        "    impressed = np.reshape(np.array(impressed), newshape=(-1,))\n",
        "\n",
        "    return impressed"
      ]
    },
    {
      "cell_type": "markdown",
      "metadata": {
        "collapsed": false,
        "id": "1kLwUT4m-alG"
      },
      "source": [
        "#### Repeated IC"
      ]
    },
    {
      "cell_type": "code",
      "execution_count": null,
      "metadata": {
        "id": "L8A6dSI7-alG"
      },
      "outputs": [],
      "source": [
        "def repeated_IC(G, nodes_zero, nodes_one, seeds, seeds_type, n_expr, imp_prob, recover_prob = 0, remove = 0):\n",
        "  zeros_count = []\n",
        "  ones_count = []\n",
        "  total_count = []\n",
        "\n",
        "  for i in range(n_expr):\n",
        "    impressed = IC(G, seeds, imp_prob, recover_prob = recover_prob, remove = remove)\n",
        "    total_count.append(len(impressed))\n",
        "\n",
        "    count_zeros = 0\n",
        "    count_ones = 0\n",
        "\n",
        "    for imp in impressed:\n",
        "      if imp in nodes_zero:\n",
        "        count_zeros += 1\n",
        "      elif imp in nodes_one:\n",
        "        count_ones += 1\n",
        "\n",
        "    zeros_count.append(count_zeros)\n",
        "    ones_count.append(count_ones)\n",
        "\n",
        "  total_imp = np.round(np.mean(total_count), 2)\n",
        "  total_fraction = np.round(total_imp / len(G.nodes()), 3)\n",
        "\n",
        "  fraction_zero = np.round(np.mean(zeros_count) / len(nodes_zero), 3)\n",
        "  fraction_one = np.round(np.mean(ones_count) / len(nodes_one), 3)\n",
        "\n",
        "  return total_imp, total_fraction, fraction_zero, fraction_one\n"
      ]
    },
    {
      "cell_type": "markdown",
      "metadata": {
        "collapsed": false,
        "id": "1dtblnS--alG"
      },
      "source": [
        "### Loading the real graph"
      ]
    },
    {
      "cell_type": "code",
      "execution_count": null,
      "metadata": {
        "id": "iKWP1gLj-alG"
      },
      "outputs": [],
      "source": [
        "def get_graph_real():\n",
        "  # graph_df = pd.read_csv('/content/sample_data/edges.txt', sep=\"\\t\", header=None)\n",
        "  graph_df = pd.read_csv('/content/edges.txt', sep=\"\\t\", header=None)\n",
        "  graph_df.columns = ['s', 't']\n",
        "\n",
        "  # attr_df = pd.read_csv('/content/sample_data/attr.txt', sep=\"\\t\", header=None)\n",
        "  attr_df = pd.read_csv('/content/attr.txt', sep=\"\\t\", header=None)\n",
        "  attr_df.columns = ['id', 'College', 'Age', 'Major']\n",
        "\n",
        "  edges = []\n",
        "\n",
        "  for index, row in graph_df.iterrows():\n",
        "    edge_cur = (row.s, row.t)\n",
        "\n",
        "    edges.append(edge_cur)\n",
        "\n",
        "  input_G = nx.from_edgelist(edges)\n",
        "\n",
        "  extra_nodes = []\n",
        "  for index, row in attr_df.iterrows():\n",
        "    if row.Age > 20:\n",
        "      extra_nodes.append(row.id)\n",
        "\n",
        "  unfrozen_G = nx.Graph(input_G)\n",
        "\n",
        "  for node in input_G.nodes():\n",
        "    if node in extra_nodes:\n",
        "      unfrozen_G.remove_node(node)\n",
        "\n",
        "  X = nx.to_numpy_array(unfrozen_G)\n",
        "  G = nx.from_numpy_array(X)\n",
        "\n",
        "  return G, X, unfrozen_G"
      ]
    },
    {
      "cell_type": "code",
      "execution_count": null,
      "metadata": {
        "id": "_Q4d0FK2-alN"
      },
      "outputs": [],
      "source": [
        "def get_nodes_labels_real(input_G):\n",
        "  # data = pd.read_csv('/content/sample_data/attr.txt', sep=\"\\t\", header=None)\n",
        "  data = pd.read_csv('/content/attr.txt', sep=\"\\t\", header=None)\n",
        "  data.columns = ['id', 'College', 'Age', 'Major']\n",
        "\n",
        "  dict_labels = {}\n",
        "\n",
        "  for index, row in data.iterrows():\n",
        "    if row.Age <+ 20:\n",
        "      dict_labels[row.id] = 0\n",
        "    # elif row.Age == 20:\n",
        "    #   dict_labels[row.id] = 1\n",
        "    else:\n",
        "      dict_labels[row.id] = 1\n",
        "\n",
        "  labels = []\n",
        "  for node in list(input_G.nodes()):\n",
        "    labels.append(dict_labels[node])\n",
        "\n",
        "  # Remember that whenever you want do logical operation on a sequence, that sequence should be numpy array\n",
        "  labels = np.array(labels)\n",
        "\n",
        "  nodes = np.arange(len(input_G.nodes()))\n",
        "\n",
        "  nodes_zero = nodes[labels == 0]\n",
        "  nodes_one = nodes[labels == 1]\n",
        "\n",
        "  return nodes_zero, nodes_one, labels"
      ]
    },
    {
      "cell_type": "code",
      "execution_count": null,
      "metadata": {
        "id": "cpbWkYiu-alN"
      },
      "outputs": [],
      "source": [
        "def get_idxs(n, nodes_zero, nodes_one):\n",
        "\n",
        "  diff_size = np.abs(len(nodes_one) - len(nodes_zero))\n",
        "\n",
        "  idxs_zeros = nodes_zero[:]\n",
        "  idxs_ones = nodes_one[:]\n",
        "  rep_policy = False\n",
        "\n",
        "  if len(nodes_zero) < len(nodes_one):\n",
        "    if diff_size > len(nodes_zero):\n",
        "      rep_policy = True\n",
        "    zero_draws = np.random.choice(nodes_zero,size=diff_size, replace=rep_policy)\n",
        "    idxs_zeros = np.concatenate((idxs_zeros, zero_draws))\n",
        "\n",
        "  elif len(nodes_zero) > len(nodes_one):\n",
        "    if diff_size > len(nodes_one):\n",
        "      rep_policy = True\n",
        "    one_draws = np.random.choice(nodes_one,size=diff_size, replace=rep_policy)\n",
        "    idxs_ones = np.concatenate((idxs_ones, one_draws))\n",
        "\n",
        "  assert len(idxs_zeros) == len(idxs_ones)\n",
        "\n",
        "  return np.arange(n), idxs_zeros, idxs_ones\n"
      ]
    },
    {
      "cell_type": "code",
      "execution_count": null,
      "metadata": {
        "id": "NsEqa5CE-alO"
      },
      "outputs": [],
      "source": [
        "def print_edges(G, nodes_zero, nodes_one):\n",
        "  zero_edges = 0\n",
        "  one_edges = 0\n",
        "  accross_edges = 0\n",
        "\n",
        "  for (v1, v2) in G.edges():\n",
        "    if v1 in nodes_zero and v2 in nodes_zero:\n",
        "      zero_edges += 1\n",
        "    elif v1 in nodes_one and v2 in nodes_one:\n",
        "      one_edges += 1\n",
        "    elif v1 in nodes_one and v2 in nodes_zero:\n",
        "      accross_edges += 1\n",
        "    elif v1 in nodes_zero and v2 in nodes_one:\n",
        "      accross_edges += 1\n",
        "\n",
        "  print(f\" edges in zero community: {zero_edges}\")\n",
        "  print(f\" edges in one community: {one_edges}\")\n",
        "  print(f\" edges across communities: {accross_edges}\")\n"
      ]
    },
    {
      "cell_type": "markdown",
      "metadata": {
        "collapsed": false,
        "id": "xf56I8MG-alO"
      },
      "source": [
        "### Running the experiments"
      ]
    },
    {
      "cell_type": "code",
      "execution_count": null,
      "metadata": {
        "colab": {
          "base_uri": "https://localhost:8080/"
        },
        "id": "g2No4Qyn-alO",
        "outputId": "c351bd21-6a03-470c-a1ea-69dedb7eca22"
      },
      "outputs": [
        {
          "output_type": "stream",
          "name": "stdout",
          "text": [
            " edges in zero community: 513\n",
            " edges in one community: 7441\n",
            " edges across communities: 1706\n"
          ]
        },
        {
          "output_type": "stream",
          "name": "stderr",
          "text": [
            "WARNING:tensorflow:5 out of the last 5 calls to <function _BaseOptimizer._update_step_xla at 0x79f9b0112170> triggered tf.function retracing. Tracing is expensive and the excessive number of tracings could be due to (1) creating @tf.function repeatedly in a loop, (2) passing tensors with different shapes, (3) passing Python objects instead of tensors. For (1), please define your @tf.function outside of the loop. For (2), @tf.function has reduce_retracing=True option that can avoid unnecessary retracing. For (3), please refer to https://www.tensorflow.org/guide/function#controlling_retracing and https://www.tensorflow.org/api_docs/python/tf/function for  more details.\n",
            "WARNING:tensorflow:6 out of the last 6 calls to <function _BaseOptimizer._update_step_xla at 0x79f9b0112170> triggered tf.function retracing. Tracing is expensive and the excessive number of tracings could be due to (1) creating @tf.function repeatedly in a loop, (2) passing tensors with different shapes, (3) passing Python objects instead of tensors. For (1), please define your @tf.function outside of the loop. For (2), @tf.function has reduce_retracing=True option that can avoid unnecessary retracing. For (3), please refer to https://www.tensorflow.org/guide/function#controlling_retracing and https://www.tensorflow.org/api_docs/python/tf/function for  more details.\n"
          ]
        },
        {
          "output_type": "stream",
          "name": "stdout",
          "text": [
            "pre-training done.\n"
          ]
        }
      ],
      "source": [
        "embedding_size = 30\n",
        "\n",
        "# Can get `with_f1` or `without_f1`\n",
        "first_order_imp = 'no_f1'\n",
        "alpha = 0.05\n",
        "\n",
        "# 1. Creating the Graph and Getting the Adj Matrix\n",
        "G, X, input_G = get_graph_real()\n",
        "n = len(G.nodes())\n",
        "\n",
        "# 2. Getting seperate lists for seperate communities and the label for each community\n",
        "nodes_zero, nodes_one, labels = get_nodes_labels_real(input_G)\n",
        "\n",
        "print_edges(G, nodes_zero, nodes_one)\n",
        "\n",
        "# 3. Getting the idxs suitable for training.\n",
        "idxs, idxs_zeros, idxs_ones = get_idxs(n, nodes_zero, nodes_one)\n",
        "\n",
        "# 4. Creating the Embedder\n",
        "encoder = build_encoder(embedding_size)\n",
        "decoder = build_decoder(embedding_size, n)\n",
        "auto_encoder = build_ae(encoder, decoder, n)\n",
        "\n",
        "# 5. Creating the Discriminator\n",
        "discriminator = build_discriminator(embedding_size)\n",
        "\n",
        "# 6. Pretraining the Embedder and the Discriminator\n",
        "pre_optimizer_embd = tf.keras.optimizers.Adam()\n",
        "pre_optimizer_disc = tf.keras.optimizers.Adam()\n",
        "\n",
        "pretrain_embd(X, idxs, encoder, decoder, auto_encoder, pre_optimizer_embd, first_order_imp, alpha)\n",
        "pretrain_disc(X, idxs_zeros, idxs_ones, encoder, discriminator, pre_optimizer_disc)\n",
        "# print('6')\n",
        "\n",
        "# # 6-1. Get the pretrain-embeddings\n",
        "pre_embds = encoder(X)\n",
        "print('pre-training done.')"
      ]
    },
    {
      "cell_type": "code",
      "source": [
        "# Reduce the dimensionality of the embeddings to 2D using t-SNE\n",
        "tsne = TSNE(n_components=2)\n",
        "embeddings_2d = tsne.fit_transform(pre_embds)\n",
        "\n",
        "# Plot the 2D embeddings\n",
        "plt.figure(figsize=(10, 6))\n",
        "plt.scatter(embeddings_2d[:, 0], embeddings_2d[:, 1], s=10)  # Adjust s for marker size\n",
        "plt.title('2D Visualization of Embeddings')\n",
        "plt.xlabel('Dimension 1')\n",
        "plt.ylabel('Dimension 2')\n",
        "plt.grid(True)\n",
        "plt.show()"
      ],
      "metadata": {
        "colab": {
          "base_uri": "https://localhost:8080/",
          "height": 564
        },
        "id": "9DC0KbUuTXuh",
        "outputId": "68d996fd-601a-4bf1-8409-2464c09c1da4"
      },
      "execution_count": null,
      "outputs": [
        {
          "output_type": "display_data",
          "data": {
            "text/plain": [
              "<Figure size 1000x600 with 1 Axes>"
            ],
            "image/png": "[encoded data removed]"
          },
          "metadata": {}
        }
      ]
    },
    {
      "cell_type": "code",
      "execution_count": null,
      "metadata": {
        "id": "AxH1xXzD-alO",
        "colab": {
          "base_uri": "https://localhost:8080/"
        },
        "outputId": "30b17190-a9b3-4294-deb9-9e810d600752"
      },
      "outputs": [
        {
          "output_type": "stream",
          "name": "stdout",
          "text": [
            "tf.Tensor(\n",
            "[[ 6.535372   3.462458  30.119017  ...  6.6949267 37.4795    15.433625 ]\n",
            " [ 5.756213   1.4351586 36.040943  ... 12.0271    48.103046  20.214975 ]\n",
            " [ 0.6298661  0.        28.75548   ...  1.7623596 39.740776  16.637297 ]\n",
            " ...\n",
            " [ 0.         0.        16.759424  ...  2.80366   14.712961   5.8458834]\n",
            " [ 0.         0.        16.759424  ...  2.80366   14.712961   5.8458834]\n",
            " [ 0.         0.        27.041777  ... 14.021838  29.10542    3.1448612]], shape=(441, 30), dtype=float32)\n",
            "adversarial training done.\n"
          ]
        }
      ],
      "source": [
        "# 7. Adversarial Training\n",
        "ae_optimizer = tf.keras.optimizers.Adam()\n",
        "disc_optimizer = tf.keras.optimizers.Adam()\n",
        "\n",
        "adversarial_train(X, idxs_zeros, idxs_ones, encoder, decoder, auto_encoder, discriminator, ae_optimizer, disc_optimizer, first_order_imp, alpha)\n",
        "\n",
        "#7-1. Getting the fair-embeddings\n",
        "fair_embds = encoder(X)\n",
        "print(fair_embds)\n",
        "\n",
        "print('adversarial training done.')"
      ]
    },
    {
      "cell_type": "code",
      "source": [
        "# Reduce the dimensionality of the embeddings to 2D using t-SNE\n",
        "tsne = TSNE(n_components=2)\n",
        "embeddings_2d = tsne.fit_transform(fair_embds)\n",
        "\n",
        "# Plot the 2D embeddings\n",
        "plt.figure(figsize=(10, 6))\n",
        "plt.scatter(embeddings_2d[:, 0], embeddings_2d[:, 1], s=10)  # Adjust s for marker size\n",
        "plt.title('2D Visualization of Embeddings')\n",
        "plt.xlabel('Dimension 1')\n",
        "plt.ylabel('Dimension 2')\n",
        "plt.grid(True)\n",
        "plt.show()"
      ],
      "metadata": {
        "colab": {
          "base_uri": "https://localhost:8080/",
          "height": 564
        },
        "id": "wQjnrl7LTFWJ",
        "outputId": "01cbf976-be4b-4027-ecb7-9c63ccfef087"
      },
      "execution_count": null,
      "outputs": [
        {
          "output_type": "display_data",
          "data": {
            "text/plain": [
              "<Figure size 1000x600 with 1 Axes>"
            ],
            "image/png": "[encoded data removed]"
          },
          "metadata": {}
        }
      ]
    },
    {
      "cell_type": "code",
      "source": [
        "# Reduce the dimensionality of the embeddings to 2D using t-SNE\n",
        "tsne = TSNE(n_components=2)\n",
        "\n",
        "# Fit and transform embeddings for the first plot\n",
        "embeddings_2d_1 = tsne.fit_transform(pre_embds)\n",
        "\n",
        "# Fit and transform embeddings for the second plot\n",
        "embeddings_2d_2 = tsne.fit_transform(fair_embds)\n",
        "\n",
        "# Create subplots\n",
        "fig, axs = plt.subplots(1, 2, figsize=(12, 6))\n",
        "\n",
        "# Plot the first 2D embeddings\n",
        "axs[0].scatter(embeddings_2d_1[:, 0], embeddings_2d_1[:, 1], s=10)\n",
        "axs[0].set_title('Embeddings 1')\n",
        "axs[0].set_xlabel('Dimension 1')\n",
        "axs[0].set_ylabel('Dimension 2')\n",
        "axs[0].grid(True)\n",
        "\n",
        "# Plot the second 2D embeddings\n",
        "axs[1].scatter(embeddings_2d_2[:, 0], embeddings_2d_2[:, 1], s=10)\n",
        "axs[1].set_title('Embeddings 2')\n",
        "axs[1].set_xlabel('Dimension 1')\n",
        "axs[1].set_ylabel('Dimension 2')\n",
        "axs[1].grid(True)\n",
        "\n",
        "# Adjust layout\n",
        "plt.tight_layout()\n",
        "\n",
        "# Show the plots\n",
        "plt.show()"
      ],
      "metadata": {
        "colab": {
          "base_uri": "https://localhost:8080/",
          "height": 442
        },
        "id": "9yBe8vb4Tsqv",
        "outputId": "83bae172-29bf-49fa-add3-70dd0fb97616"
      },
      "execution_count": null,
      "outputs": [
        {
          "output_type": "display_data",
          "data": {
            "text/plain": [
              "<Figure size 1200x600 with 2 Axes>"
            ],
            "image/png": "[encoded data removed]"
          },
          "metadata": {}
        }
      ]
    },
    {
      "cell_type": "markdown",
      "metadata": {
        "collapsed": false,
        "id": "hOiAIUvE-alO"
      },
      "source": [
        "#### Experiments settings"
      ]
    },
    {
      "cell_type": "code",
      "execution_count": null,
      "metadata": {
        "id": "agV0h4ue-alP"
      },
      "outputs": [],
      "source": [
        "# N_CLUSs = [4]\n",
        "# n_seedss = [1, 2, 3, 4, 5, 6, 7, 8, 10]\n",
        "\n",
        "N_CLUSs = [5]\n",
        "n_seedss = [2]\n",
        "# n_seedss = [8]\n",
        "\n",
        "# Methods for getting the seeds can be nearest or re-cluster\n",
        "strategy = 're-cluster'"
      ]
    },
    {
      "cell_type": "code",
      "execution_count": null,
      "metadata": {
        "id": "uw84u7qR-alP",
        "colab": {
          "base_uri": "https://localhost:8080/"
        },
        "outputId": "016a8231-4a05-4369-bc76-a90cc6794263"
      },
      "outputs": [
        {
          "output_type": "stream",
          "name": "stdout",
          "text": [
            "Fair seeds:  [186 375  15  68  40  25 372 165 427  58]\n",
            "Length of spread is:  430\n",
            "Time for Fair seeds finding using KMeans: 1.7368340492248535\n",
            "\n",
            "\n",
            "\n",
            "Pre Seeds:  [223 291 427  85 195 156  59 317 122 313]\n",
            "Length of spread is:  432\n",
            "Time for Pre seeds finding using KMeans: -1.8518435955047607\n",
            "[[30, 5, 2, 21.88, 0.05, 0.012, 0.06, 18.27, 0.041, 0.021, 0.047, 're-cluster']]\n"
          ]
        }
      ],
      "source": [
        "# @title K-Means Clustering\n",
        "import matplotlib.pyplot as plt\n",
        "\n",
        "rows = '['\n",
        "first = True\n",
        "\n",
        "\n",
        "for N_CLUS in N_CLUSs:\n",
        "  for n_seeds in n_seedss:\n",
        "    if first:\n",
        "        first = False\n",
        "    else:\n",
        "        rows += ',\\n'\n",
        "    #8. Getting the seeds for the embeddings and baselines\n",
        "    t1 = time.time()\n",
        "    fair_seeds = get_seeds_KMeans(N_CLUS, fair_embds, idxs, labels, nodes_zero, nodes_one, strategy, n_seeds)\n",
        "    t2 = time.time()\n",
        "    print(\"Fair seeds: \", fair_seeds)\n",
        "    fair_inf_spread = IC(G, fair_seeds, 0.2, 0, 0)\n",
        "    print(\"Length of spread is: \", len(fair_inf_spread))\n",
        "    # print(\"Fair Influenced nodes are: \", fair_inf_spread)\n",
        "    print(\"Time for Fair seeds finding using KMeans:\", t2-t1)\n",
        "    print(\"\\n\\n\")\n",
        "\n",
        "    t3=time.time()\n",
        "    pre_seeds = get_seeds_KMeans(N_CLUS, pre_embds, idxs, labels, nodes_zero, nodes_one, strategy, n_seeds)\n",
        "    t4=time.time()\n",
        "    print(\"Pre Seeds: \", pre_seeds)\n",
        "    pre_inf_spread = IC(G, pre_seeds, 0.2, 0, 0)\n",
        "    print(\"Length of spread is: \", len(pre_inf_spread))\n",
        "    # print(\"Pre Influenced nodes are: \", pre_inf_spread)\n",
        "    print(\"Time for Pre seeds finding using KMeans:\", t3-time.time())\n",
        "\n",
        "\n",
        "\n",
        "    #9. Getting the final results\n",
        "    total_fair, fair_frac, zero_fair, one_fair = repeated_IC(G, nodes_zero, nodes_one, fair_seeds, 'fair', 2000, 0.01)\n",
        "    total_pre, pre_frac, zero_pre, one_pre = repeated_IC(G, nodes_zero, nodes_one, pre_seeds, 'pre', 2000, 0.01)\n",
        "\n",
        "    #10. Building the current row and adding it to the rows.\n",
        "    row =[ embedding_size ,  N_CLUS,  n_seeds, total_fair, fair_frac, zero_fair, one_fair,  total_pre ,  pre_frac ,  zero_pre ,  one_pre, '\\'' + strategy + '\\'']\n",
        "    # print(row)\n",
        "\n",
        "    rows += '[' + ', '.join(map(str, row)) + ']'\n",
        "\n",
        "rows += ']'\n",
        "\n",
        "\n",
        "print(rows)\n",
        "\n",
        "\n"
      ]
    },
    {
      "cell_type": "code",
      "execution_count": null,
      "metadata": {
        "colab": {
          "base_uri": "https://localhost:8080/"
        },
        "outputId": "044ccd00-8c29-40ae-cd35-6b6a4a650d82",
        "id": "evLwT0s8Fsj6"
      },
      "outputs": [
        {
          "output_type": "stream",
          "name": "stdout",
          "text": [
            "Fair seeds:  [247 232 234  54 195 331 231 250 367  39]\n",
            "Length of spread is:  429\n",
            "Time for Fair seeds using Spectral Clus is:  0.16069841384887695\n",
            "\n",
            "\n",
            "\n",
            "Pre Seeds:  [234  54 275 318 195 331 380 293 231 250]\n",
            "Length of spread is:  425\n",
            "Time for Pre seeds using Spectral Clus is:  0.19192004203796387\n",
            "[[30, 5, 2, 19.1, 0.043, 0.055, 0.04, 17.33, 0.039, 0.064, 0.032, 're-cluster']]\n"
          ]
        }
      ],
      "source": [
        "# @title Spectral Clustering\n",
        "import matplotlib.pyplot as plt\n",
        "\n",
        "rows = '['\n",
        "first = True\n",
        "\n",
        "\n",
        "for N_CLUS in N_CLUSs:\n",
        "  for n_seeds in n_seedss:\n",
        "    if first:\n",
        "        first = False\n",
        "    else:\n",
        "        rows += ',\\n'\n",
        "    #8. Getting the seeds for the embeddings and baselines\n",
        "\n",
        "    t1 = time.time()\n",
        "    fair_seeds = get_seeds_Spectral_Clustering(N_CLUS, fair_embds, idxs, labels, nodes_zero, nodes_one, strategy, n_seeds)\n",
        "    t2 = time.time()\n",
        "    pre_seeds = get_seeds_Spectral_Clustering(N_CLUS, pre_embds, idxs, labels, nodes_zero, nodes_one, strategy, n_seeds)\n",
        "    t3 = time.time()\n",
        "\n",
        "\n",
        "    print(\"Fair seeds: \", fair_seeds)\n",
        "    fair_inf_spread = IC(G, fair_seeds, 0.2, 0, 0)\n",
        "    print(\"Length of spread is: \", len(fair_inf_spread))\n",
        "    # print(\"Fair Influenced nodes are: \", fair_inf_spread)\n",
        "    print(\"Time for Fair seeds using Spectral Clus is: \", t2-t1)\n",
        "    print(\"\\n\\n\")\n",
        "    print(\"Pre Seeds: \", pre_seeds)\n",
        "    pre_inf_spread = IC(G, pre_seeds, 0.2, 0, 0)\n",
        "    print(\"Length of spread is: \", len(pre_inf_spread))\n",
        "    # print(\"Pre Influenced nodes are: \", pre_inf_spread)\n",
        "    print(\"Time for Pre seeds using Spectral Clus is: \", t3-t2)\n",
        "\n",
        "    #9. Getting the final results\n",
        "    total_fair, fair_frac, zero_fair, one_fair = repeated_IC(G, nodes_zero, nodes_one, fair_seeds, 'fair', 2000, 0.01)\n",
        "    total_pre, pre_frac, zero_pre, one_pre = repeated_IC(G, nodes_zero, nodes_one, pre_seeds, 'pre', 2000, 0.01)\n",
        "\n",
        "    #10. Building the current row and adding it to the rows.\n",
        "    row =[ embedding_size ,  N_CLUS,  n_seeds, total_fair, fair_frac, zero_fair, one_fair,  total_pre ,  pre_frac ,  zero_pre ,  one_pre, '\\'' + strategy + '\\'']\n",
        "    # print(row)\n",
        "\n",
        "    rows += '[' + ', '.join(map(str, row)) + ']'\n",
        "\n",
        "rows += ']'\n",
        "\n",
        "\n",
        "print(rows)\n",
        "\n",
        "\n"
      ]
    },
    {
      "cell_type": "code",
      "execution_count": null,
      "metadata": {
        "id": "AO3h-LvwpUj6",
        "colab": {
          "base_uri": "https://localhost:8080/",
          "height": 701
        },
        "outputId": "166a55a4-6e40-4e5c-aabc-d6f4c92baaca"
      },
      "outputs": [
        {
          "output_type": "stream",
          "name": "stdout",
          "text": [
            "Fair seeds:  [247 232 234  54 195 331 231 250 367  39]\n",
            "Length of spread is:  429\n",
            "Time for Fair seeds using Spectral Clus is:  0.1703801155090332\n",
            "\n",
            "\n",
            "\n",
            "Pre Seeds:  [234  54 275 318 195 331 380 293 231 250]\n",
            "Length of spread is:  426\n",
            "Time for Pre seeds using Spectral Clus is:  0.17429852485656738\n",
            "[30, 5, 2, 18.84, 0.043, 0.055, 0.039, 16.96, 0.038, 0.063, 0.031, \"'re-cluster'\"]\n"
          ]
        },
        {
          "output_type": "display_data",
          "data": {
            "text/plain": [
              "<Figure size 1000x600 with 2 Axes>"
            ],
            "image/png": "[encoded data removed]"
          },
          "metadata": {}
        }
      ],
      "source": [
        "# NEED TO CHANGE\n",
        "\n",
        "\n",
        "import matplotlib.pyplot as plt\n",
        "\n",
        "# Modify your code to collect data for plotting\n",
        "fair_frac_values = []\n",
        "total_fair_values = []\n",
        "n_seeds_values = []\n",
        "\n",
        "# Initialize 'first' variable\n",
        "first = True\n",
        "\n",
        "# Loop over your experiments and collect the relevant data\n",
        "for N_CLUS in N_CLUSs:\n",
        "    for n_seeds in n_seedss:\n",
        "        #8. Getting the seeds for the embeddings and baselines\n",
        "\n",
        "        t1 = time.time()\n",
        "        fair_seeds = get_seeds_Spectral_Clustering(N_CLUS, fair_embds, idxs, labels, nodes_zero, nodes_one, strategy, n_seeds)\n",
        "        t2 = time.time()\n",
        "        pre_seeds = get_seeds_Spectral_Clustering(N_CLUS, pre_embds, idxs, labels, nodes_zero, nodes_one, strategy, n_seeds)\n",
        "        t3 = time.time()\n",
        "\n",
        "\n",
        "        print(\"Fair seeds: \", fair_seeds)\n",
        "        fair_inf_spread = IC(G, fair_seeds, 0.2, 0, 0)\n",
        "        print(\"Length of spread is: \", len(fair_inf_spread))\n",
        "        # print(\"Fair Influenced nodes are: \", fair_inf_spread)\n",
        "        print(\"Time for Fair seeds using Spectral Clus is: \", t2-t1)\n",
        "        print(\"\\n\\n\")\n",
        "        print(\"Pre Seeds: \", pre_seeds)\n",
        "        pre_inf_spread = IC(G, pre_seeds, 0.2, 0, 0)\n",
        "        print(\"Length of spread is: \", len(pre_inf_spread))\n",
        "        # print(\"Pre Influenced nodes are: \", pre_inf_spread)\n",
        "        print(\"Time for Pre seeds using Spectral Clus is: \", t3-t2)\n",
        "\n",
        "        #9. Getting the final results\n",
        "        total_fair, fair_frac, zero_fair, one_fair = repeated_IC(G, nodes_zero, nodes_one, fair_seeds, 'fair', 2000, 0.01)\n",
        "        total_pre, pre_frac, zero_pre, one_pre = repeated_IC(G, nodes_zero, nodes_one, pre_seeds, 'pre', 2000, 0.01)\n",
        "\n",
        "        #10. Building the current row and adding it to the rows.\n",
        "        row =[ embedding_size ,  N_CLUS,  n_seeds, total_fair, fair_frac, zero_fair, one_fair,  total_pre ,  pre_frac ,  zero_pre ,  one_pre, '\\'' + strategy + '\\'']\n",
        "        print(row)\n",
        "\n",
        "        # After obtaining results for each experiment, collect the data\n",
        "        fair_frac_values.append(fair_frac)  # Assuming fair_frac is calculated in your experiments\n",
        "        total_fair_values.append(total_fair)  # Assuming total_fair is calculated in your experiments\n",
        "        n_seeds_values.append(n_seeds)\n",
        "\n",
        "# Plot the graphs\n",
        "plt.figure(figsize=(10, 6))\n",
        "\n",
        "# Plot Fairness Fraction vs. Number of Seed Nodes\n",
        "plt.subplot(2, 1, 1)\n",
        "plt.plot(n_seeds_values, fair_frac_values, marker='o', linestyle='-')\n",
        "plt.xlabel('Number of Seed Nodes')\n",
        "plt.ylabel('Fairness Fraction')\n",
        "plt.title('Fairness Fraction vs. Number of Seed Nodes')\n",
        "\n",
        "# Plot Total Fairness vs. Number of Seed Nodes\n",
        "plt.subplot(2, 1, 2)\n",
        "plt.plot(n_seeds_values, total_fair_values, marker='o', linestyle='-')\n",
        "plt.xlabel('Number of Seed Nodes')\n",
        "plt.ylabel('Total Fairness')\n",
        "plt.title('Total Fairness vs. Number of Seed Nodes')\n",
        "\n",
        "plt.tight_layout()\n",
        "plt.show()\n"
      ]
    },
    {
      "cell_type": "code",
      "execution_count": null,
      "metadata": {
        "id": "nKOc7mVLZEkP"
      },
      "outputs": [],
      "source": [
        "# NEED TO CHANGE\n",
        "\n",
        "\n",
        "# import matplotlib.pyplot as plt\n",
        "\n",
        "# # Assuming you have collected the data for Spectral Clustering in a list called spectral_data\n",
        "# spectral_data = [n_seeds, fair_frac]  # Data collected for Spectral Clustering\n",
        "\n",
        "# # Extracting the parameters for plotting\n",
        "# fair_frac_spectral = [row[4] for row in spectral_data]  # Fairness Fraction for Spectral Clustering\n",
        "# n_seeds_spectral = [row[2] for row in spectral_data]  # Number of Seeds for Spectral Clustering\n",
        "\n",
        "# # Plotting the graph\n",
        "# plt.figure(figsize=(8, 6))\n",
        "\n",
        "# # Plotting Fairness Fraction vs Number of Seeds\n",
        "# plt.scatter(n_seeds_spectral, fair_frac_spectral, label='Spectral Clustering', color='blue', marker='o')\n",
        "# plt.xlabel('Number of Seeds')\n",
        "# plt.ylabel('Fairness Fraction')\n",
        "# plt.title('Fairness Fraction vs Number of Seeds for Spectral Clustering')\n",
        "# plt.legend()\n",
        "\n",
        "# plt.show()\n"
      ]
    },
    {
      "cell_type": "code",
      "execution_count": null,
      "metadata": {
        "id": "Nxe492BE-alP",
        "colab": {
          "base_uri": "https://localhost:8080/"
        },
        "outputId": "47f89f0e-494b-4a34-cf74-9f16d36f8c78"
      },
      "outputs": [
        {
          "output_type": "stream",
          "name": "stdout",
          "text": [
            "Saved\n"
          ]
        }
      ],
      "source": [
        "import pickle\n",
        "\n",
        "with open('embeddings_6.pickle', 'wb') as f:\n",
        "    pickle.dump([G, embedding_size, fair_embds, pre_embds, idxs, labels, nodes_zero, nodes_one], f)\n",
        "\n",
        "print('Saved')"
      ]
    },
    {
      "cell_type": "code",
      "execution_count": null,
      "metadata": {
        "id": "5uGMpt1lMcHq",
        "colab": {
          "base_uri": "https://localhost:8080/"
        },
        "outputId": "59d9c72e-18b2-4e80-c886-b731eaad7f5a"
      },
      "outputs": [
        {
          "output_type": "stream",
          "name": "stdout",
          "text": [
            "Number of clusters: 439\n",
            "Cluster Labels: [  0   1   2   3   4   5   6   7   8   9  10  11  12  13  14  15  16  17\n",
            "  18  19  20  21  22  23  24  25  26  27  28  29  30  31  32  33  34  35\n",
            "  36  37  38  39  40  41  42  43  44  45  46  47  48  49  50  51  52  53\n",
            "  54  55  56  57  58  59  60  61  62  63  64  65  66  67  68  69  70  71\n",
            "  72  73  74  75  76  77  78  79  80  81  82  83  84  85  86  87  88  89\n",
            "  90  91  92  93  94  95  96  97  98  99 100 101 102 103 104 105 106 107\n",
            " 108 109 110 111 112 113 114 115 116 117 118 119 120 121 122 123 124 125\n",
            " 126 127 128 129 130 131 132 133 134 135 136 137 138 139 140 141 142 143\n",
            " 144 145 146 147 148 149 150 151 152 153 154 155 156 157 158 159 160 161\n",
            " 162 163 164 165 166 167 168 169 170 171 172 173 174 175 176 177 178 179\n",
            " 180 181 182 183 184 185 186 187 188 189 190 191 192 193 194 195 196 197\n",
            " 198 199 200 201 202 203 204 205 206 207 208 209 210 211 212 213 214 215\n",
            " 216 217 218 219 220 221 222 223 224 225 226 227 228 229 230 231 232 233\n",
            " 234 235 236 237 238 239 240 241 242 243 244 245 246 247 248 249 250 251\n",
            " 252 253 254 255 256 257 258 259 260 261 262 263 264 265 266 267 268 269\n",
            " 270 271 272 273 274 275 276 277 278 279 280 281 282 283 284 285 286 287\n",
            " 288 289 290 291 292 293 294 295 296 297 298 299 300 301 302 303 304 305\n",
            " 306 307 308 309 310 311 312 313 314 315 316 317 318 319 320 321 322 323\n",
            " 324 325 326 327 328 329 330 331 332 333 334 335 336 337 338 339 340 341\n",
            " 342 343 344 345 346 347 348 349 350 351 352 353 354 355 356 357 358 359\n",
            " 360 361 362 363 364 365 366 367 368 369 370 371 372 373 374 375 376 377\n",
            " 378 379 380 381 382 383 384 385 386 387 388 389 390 391 392 393 394 395\n",
            " 396 397 398 399 400 401 402 403 404 405 406 407 408 409 410 411 412 413\n",
            " 414 415 416 417 418 419 420 421 422 423 424 425 426 427 428 429 430 431\n",
            " 436 432 433 434 435 436 437 437 438]\n",
            "Densest Nodes within Clusters: [0, 1, 2, 3, 4, 5, 6, 7, 8, 9, 10, 11, 12, 13, 14, 15, 16, 17, 18, 19, 20, 21, 22, 23, 24, 25, 26, 27, 28, 29, 30, 31, 32, 33, 34, 35, 36, 37, 38, 39, 40, 41, 42, 43, 44, 45, 46, 47, 48, 49, 50, 51, 52, 53, 54, 55, 56, 57, 58, 59, 60, 61, 62, 63, 64, 65, 66, 67, 68, 69, 70, 71, 72, 73, 74, 75, 76, 77, 78, 79, 80, 81, 82, 83, 84, 85, 86, 87, 88, 89, 90, 91, 92, 93, 94, 95, 96, 97, 98, 99, 100, 101, 102, 103, 104, 105, 106, 107, 108, 109, 110, 111, 112, 113, 114, 115, 116, 117, 118, 119, 120, 121, 122, 123, 124, 125, 126, 127, 128, 129, 130, 131, 132, 133, 134, 135, 136, 137, 138, 139, 140, 141, 142, 143, 144, 145, 146, 147, 148, 149, 150, 151, 152, 153, 154, 155, 156, 157, 158, 159, 160, 161, 162, 163, 164, 165, 166, 167, 168, 169, 170, 171, 172, 173, 174, 175, 176, 177, 178, 179, 180, 181, 182, 183, 184, 185, 186, 187, 188, 189, 190, 191, 192, 193, 194, 195, 196, 197, 198, 199, 200, 201, 202, 203, 204, 205, 206, 207, 208, 209, 210, 211, 212, 213, 214, 215, 216, 217, 218, 219, 220, 221, 222, 223, 224, 225, 226, 227, 228, 229, 230, 231, 232, 233, 234, 235, 236, 237, 238, 239, 240, 241, 242, 243, 244, 245, 246, 247, 248, 249, 250, 251, 252, 253, 254, 255, 256, 257, 258, 259, 260, 261, 262, 263, 264, 265, 266, 267, 268, 269, 270, 271, 272, 273, 274, 275, 276, 277, 278, 279, 280, 281, 282, 283, 284, 285, 286, 287, 288, 289, 290, 291, 292, 293, 294, 295, 296, 297, 298, 299, 300, 301, 302, 303, 304, 305, 306, 307, 308, 309, 310, 311, 312, 313, 314, 315, 316, 317, 318, 319, 320, 321, 322, 323, 324, 325, 326, 327, 328, 329, 330, 331, 332, 333, 334, 335, 336, 337, 338, 339, 340, 341, 342, 343, 344, 345, 346, 347, 348, 349, 350, 351, 352, 353, 354, 355, 356, 357, 358, 359, 360, 361, 362, 363, 364, 365, 366, 367, 368, 369, 370, 371, 372, 373, 374, 375, 376, 377, 378, 379, 380, 381, 382, 383, 384, 385, 386, 387, 388, 389, 390, 391, 392, 393, 394, 395, 396, 397, 398, 399, 400, 401, 402, 403, 404, 405, 406, 407, 408, 409, 410, 411, 412, 413, 414, 415, 416, 417, 418, 419, 420, 421, 422, 423, 424, 425, 426, 427, 428, 429, 430, 431, 433, 434, 435, 436, 432, 438, 440]\n"
          ]
        }
      ],
      "source": [
        "# @title Affinity Propagation\n",
        "from sklearn.cluster import AffinityPropagation\n",
        "\n",
        "# Define a function to perform Affinity Propagation clustering\n",
        "def perform_affinity_propagation(embeddings):\n",
        "    # Create an Affinity Propagation instance\n",
        "    affinity_propagation = AffinityPropagation(damping=0.9, preference=-50)\n",
        "\n",
        "    # Fit the embeddings to the clustering algorithm\n",
        "    affinity_propagation.fit(embeddings)\n",
        "\n",
        "    # Get the cluster centers\n",
        "    cluster_centers_indices = affinity_propagation.cluster_centers_indices_\n",
        "    n_clusters_ = len(cluster_centers_indices)\n",
        "\n",
        "    # Get the labels assigned to each data point\n",
        "    labels = affinity_propagation.labels_\n",
        "\n",
        "    return n_clusters_, labels\n",
        "\n",
        "# Call the function to perform Affinity Propagation clustering on the fair embeddings\n",
        "n_clusters, labels = perform_affinity_propagation(fair_embds)\n",
        "\n",
        "# Print the number of clusters and the labels assigned to each data point\n",
        "print(\"Number of clusters:\", n_clusters)\n",
        "print(\"Cluster Labels:\", labels)\n",
        "\n",
        "# Define a function to find the densest node within each cluster\n",
        "def find_densest_node_within_cluster(G, labels):\n",
        "    densest_nodes = []\n",
        "\n",
        "    # Iterate over each cluster\n",
        "    for cluster_label in range(max(labels) + 1):\n",
        "        cluster_nodes = [node for node, label in zip(G.nodes(), labels) if label == cluster_label]\n",
        "\n",
        "        max_degree = -1\n",
        "        densest_node = None\n",
        "\n",
        "        # Find the node with the highest degree within the cluster\n",
        "        for node in cluster_nodes:\n",
        "            node_degree = G.degree[node]\n",
        "            if node_degree > max_degree:\n",
        "                max_degree = node_degree\n",
        "                densest_node = node\n",
        "\n",
        "        densest_nodes.append(densest_node)\n",
        "\n",
        "    return densest_nodes\n",
        "\n",
        "# Call the function to find the densest node within each cluster\n",
        "densest_nodes = find_densest_node_within_cluster(G, labels)\n",
        "\n",
        "# Print the densest nodes\n",
        "print(\"Densest Nodes within Clusters:\", densest_nodes)\n",
        "\n",
        "# Now, you can use these densest nodes as seed nodes for your influence maximization algorithm.\n"
      ]
    },
    {
      "cell_type": "code",
      "source": [
        "import networkx as nx\n",
        "import heapq\n",
        "import random\n",
        "\n",
        "def celf_influence_maximization_with_embeddings(embeddings, k):\n",
        "    \"\"\"\n",
        "    CELF algorithm for influence maximization using node embeddings.\n",
        "\n",
        "    Args:\n",
        "        embeddings: Embeddings of nodes generated by the autoencoder.\n",
        "        k: the number of nodes to select.\n",
        "\n",
        "    Returns:\n",
        "        A list of k nodes that maximizes the spread of influence.\n",
        "    \"\"\"\n",
        "\n",
        "    S = [] # Selected nodes\n",
        "    pq = [] # Priority queue of candidate nodes\n",
        "\n",
        "    # Compute the marginal gain of each node\n",
        "    for node in range(len(embeddings)):\n",
        "        mg = get_marginal_gain_with_embeddings(embeddings, S, node)\n",
        "        heapq.heappush(pq, (-mg, node))\n",
        "\n",
        "    # Select the top k nodes with highest marginal gain\n",
        "    while len(S) < k:\n",
        "        _, node = heapq.heappop(pq)\n",
        "\n",
        "        # while node in S:\n",
        "        #     _, node = heapq.heappop(pq)\n",
        "\n",
        "        S.append(node)\n",
        "        # Edited down 5 lines\n",
        "        # updated_pq = []\n",
        "        # for _, candidate_node in pq:\n",
        "        #     mg = get_marginal_gain_with_embeddings(embeddings, S, candidate_node)\n",
        "        #     heapq.heappush(updated_pq, (-mg, candidate_node))\n",
        "        # pq = updated_pq\n",
        "\n",
        "        # Update the priority queue with the new marginal gains\n",
        "        for neighbor in range(len(embeddings)):\n",
        "            if neighbor not in S:\n",
        "                mg = get_marginal_gain_with_embeddings(embeddings, S, neighbor)\n",
        "                heapq.heappush(pq, (-mg, neighbor))\n",
        "\n",
        "    return S\n",
        "\n",
        "def get_marginal_gain_with_embeddings(embeddings, S, node):\n",
        "    \"\"\"\n",
        "    Compute the marginal gain of a node given a set of seed nodes S using embeddings.\n",
        "\n",
        "    Args:\n",
        "        embeddings: Embeddings of nodes generated by the autoencoder.\n",
        "        S: a list of seed nodes.\n",
        "        node: the node to evaluate.\n",
        "\n",
        "    Returns:\n",
        "        The marginal gain of the node.\n",
        "    \"\"\"\n",
        "\n",
        "    if node in S:\n",
        "        return 0\n",
        "\n",
        "    H = nx.Graph() # Create a graph for computing influence spread\n",
        "    H.add_node(node) # Add the node to the graph\n",
        "    for n in S:\n",
        "        H.add_node(n) # Add seed nodes to the graph\n",
        "        H.add_edge(node, n, weight=similarity(embeddings[node], embeddings[n])) # Add edges with similarity as weight\n",
        "\n",
        "    # Compute the influence spread of the node\n",
        "    activated_nodes = set([node])\n",
        "    while True:\n",
        "        activated_nodes_prev = activated_nodes.copy()\n",
        "        for n in activated_nodes_prev:\n",
        "            for m in H.neighbors(n):\n",
        "                if m not in activated_nodes:\n",
        "                    if random.random() < H[n][m]['weight']:\n",
        "                        activated_nodes.add(m)\n",
        "        if activated_nodes == activated_nodes_prev:\n",
        "            break\n",
        "    influence = len(activated_nodes)\n",
        "\n",
        "    # Compute the marginal gain\n",
        "    return influence - len(S)\n",
        "\n",
        "def similarity(embedding1, embedding2):\n",
        "    \"\"\"\n",
        "    Compute similarity between two node embeddings.\n",
        "\n",
        "    Args:\n",
        "        embedding1: embedding vector of node 1.\n",
        "        embedding2: embedding vector of node 2.\n",
        "\n",
        "    Returns:\n",
        "        Similarity score between the two embeddings.\n",
        "    \"\"\"\n",
        "    # Example similarity measure: cosine similarity\n",
        "    dot_product = sum(a * b for a, b in zip(embedding1, embedding2))\n",
        "    magnitude1 = sum(a ** 2 for a in embedding1) ** 0.5\n",
        "    magnitude2 = sum(b ** 2 for b in embedding2) ** 0.5\n",
        "    similarity_score = dot_product / (magnitude1 * magnitude2)\n",
        "    return similarity_score\n",
        "\n",
        "# Assuming you have generated the fair and pre embeddings from the existing code\n",
        "fair_embeddings = fair_embds.numpy()\n",
        "pre_embeddings = pre_embds.numpy()\n",
        "\n",
        "# Set the number of nodes to select\n",
        "k = 10\n",
        "\n",
        "# Run CELF algorithm with fair embeddings\n",
        "t1 = time.time()\n",
        "fair_seed_nodes = celf_influence_maximization_with_embeddings(fair_embeddings, k)\n",
        "t2 = time.time()\n",
        "print(\"Fair Seed Nodes:\", fair_seed_nodes)\n",
        "fair_influenced_list = IC(G, fair_seed_nodes, 0.2, 0, 0)\n",
        "print(\"Influence Spreadis: \", len(fair_influenced_list))\n",
        "# print(\"Influence after fair seed embeddings:\", influenced_list) #Edited\n",
        "print(\"Time taken: \",t2-t1)\n",
        "print(\"\\n\\n\")\n",
        "# Run CELF algorithm with pre embeddings\n",
        "t3 = time.time()\n",
        "pre_seed_nodes = celf_influence_maximization_with_embeddings(pre_embeddings, k)\n",
        "t4 = time.time()\n",
        "print(\"Pre Seed Nodes:\", pre_seed_nodes)\n",
        "pre_influenced_list = IC(G, pre_seed_nodes, 0.2, 0, 0)\n",
        "print(\"Influence Spreadis: \", len(pre_influenced_list))\n",
        "# print(\"Influence after fair seed embeddings:\", influenced_list) #Edited\n",
        "print(\"Time taken: \", t4-t3)"
      ],
      "metadata": {
        "colab": {
          "base_uri": "https://localhost:8080/"
        },
        "id": "Gl3-cOA9MZjC",
        "outputId": "cb002c48-5f45-4341-ae0a-ca47afb09b69"
      },
      "execution_count": null,
      "outputs": [
        {
          "output_type": "stream",
          "name": "stdout",
          "text": [
            "Fair Seed Nodes: [0, 1, 1, 2, 2, 2, 3, 3, 3, 4]\n",
            "Influence Spreadis:  432\n",
            "Time taken:  3.4232633113861084\n",
            "\n",
            "\n",
            "\n",
            "Pre Seed Nodes: [0, 1, 1, 2, 2, 2, 3, 3, 3, 4]\n",
            "Influence Spreadis:  437\n",
            "Time taken:  3.4196579456329346\n"
          ]
        }
      ]
    },
    {
      "cell_type": "code",
      "execution_count": null,
      "metadata": {
        "id": "A7BPvypBxe8T",
        "colab": {
          "base_uri": "https://localhost:8080/"
        },
        "outputId": "e61dc0a7-28d5-4843-a427-321eafd2bdf1"
      },
      "outputs": [
        {
          "output_type": "stream",
          "name": "stdout",
          "text": [
            "Fair Seed Nodes: [0, 1, 1, 2, 2, 2, 3, 3, 3, 4]\n",
            "Influence Spreadis:  433\n",
            "Time taken:  0.46750855445861816\n",
            "\n",
            "\n",
            "\n",
            "Pre Seed Nodes: [0, 1, 1, 2, 2, 2, 3, 3, 3, 4]\n",
            "Influence Spreadis:  432\n",
            "Time taken:  0.7912683486938477\n"
          ]
        }
      ],
      "source": [
        "import networkx as nx\n",
        "import heapq\n",
        "import random\n",
        "from sklearn.cluster import SpectralClustering\n",
        "\n",
        "\n",
        "def celf_influence_maximization_with_embeddings(embeddings, k):\n",
        "    \"\"\"\n",
        "    CELF algorithm for influence maximization using node embeddings.\n",
        "\n",
        "    Args:\n",
        "        embeddings: Embeddings of nodes generated by the autoencoder.\n",
        "        k: the number of nodes to select.\n",
        "\n",
        "    Returns:\n",
        "        A list of k nodes that maximizes the spread of influence.\n",
        "    \"\"\"\n",
        "\n",
        "    S = [] # Selected nodes\n",
        "    pq = [] # Priority queue of candidate nodes\n",
        "\n",
        "    # Compute the marginal gain of each node\n",
        "    cluster_model = SpectralClustering(n_clusters=2, affinity='nearest_neighbors', random_state=0)  # Assuming 2 clusters for demonstration\n",
        "    cluster_labels = cluster_model.fit_predict(embeddings)\n",
        "\n",
        "    for node in range(len(embeddings)):\n",
        "        mg = get_marginal_gain_with_embeddings(embeddings, S, node, cluster_labels)\n",
        "        heapq.heappush(pq, (-mg, node))\n",
        "\n",
        "    # Select the top k nodes with highest marginal gain\n",
        "    while len(S) < k:\n",
        "        _, node = heapq.heappop(pq)\n",
        "        S.append(node)\n",
        "        # Update the priority queue with the new marginal gains\n",
        "        for neighbor in range(len(embeddings)):\n",
        "            if neighbor not in S:\n",
        "                mg = get_marginal_gain_with_embeddings(embeddings, S, neighbor, cluster_labels)\n",
        "                heapq.heappush(pq, (-mg, neighbor))\n",
        "\n",
        "    return S\n",
        "\n",
        "\n",
        "def get_marginal_gain_with_embeddings(embeddings, S, node, cluster_labels):\n",
        "    \"\"\"\n",
        "    Compute the marginal gain of a node given a set of seed nodes S using embeddings.\n",
        "\n",
        "    Args:\n",
        "        embeddings: Embeddings of nodes generated by the autoencoder.\n",
        "        S: a list of seed nodes.\n",
        "        node: the node to evaluate.\n",
        "        cluster_labels: Labels obtained from Spectral Clustering.\n",
        "\n",
        "    Returns:\n",
        "        The marginal gain of the node.\n",
        "    \"\"\"\n",
        "\n",
        "    if node in S:\n",
        "        return 0\n",
        "\n",
        "    H = nx.Graph() # Create a graph for computing influence spread\n",
        "    H.add_node(node) # Add the node to the graph\n",
        "    for n in S:\n",
        "        H.add_node(n) # Add seed nodes to the graph\n",
        "        cluster_similarity = 1 if cluster_labels[node] == cluster_labels[n] else 0  # Check if nodes belong to the same cluster\n",
        "        H.add_edge(node, n, weight=cluster_similarity) # Add edges with cluster similarity as weight\n",
        "\n",
        "    # Compute the influence spread of the node\n",
        "    activated_nodes = set([node])\n",
        "    while True:\n",
        "        activated_nodes_prev = activated_nodes.copy()\n",
        "        for n in activated_nodes_prev:\n",
        "            for m in H.neighbors(n):\n",
        "                if m not in activated_nodes:\n",
        "                    if random.random() < H[n][m]['weight']:\n",
        "                        activated_nodes.add(m)\n",
        "        if activated_nodes == activated_nodes_prev:\n",
        "            break\n",
        "    influence = len(activated_nodes)\n",
        "\n",
        "    # Compute the marginal gain\n",
        "    return influence - len(S)\n",
        "\n",
        "\n",
        "def similarity(embedding1, embedding2):\n",
        "    \"\"\"\n",
        "    Compute similarity between two node embeddings.\n",
        "\n",
        "    Args:\n",
        "        embedding1: embedding vector of node 1.\n",
        "        embedding2: embedding vector of node 2.\n",
        "\n",
        "    Returns:\n",
        "        Similarity score between the two embeddings.\n",
        "    \"\"\"\n",
        "    # Example similarity measure: cosine similarity\n",
        "    dot_product = sum(a * b for a, b in zip(embedding1, embedding2))\n",
        "    magnitude1 = sum(a ** 2 for a in embedding1) ** 0.5\n",
        "    magnitude2 = sum(b ** 2 for b in embedding2) ** 0.5\n",
        "    similarity_score = dot_product / (magnitude1 * magnitude2)\n",
        "    return similarity_score\n",
        "\n",
        "# Assuming you have generated the fair and pre embeddings from the existing code\n",
        "fair_embeddings = fair_embds.numpy()\n",
        "pre_embeddings = pre_embds.numpy()\n",
        "\n",
        "# Assuming you have defined or imported the necessary variables and functions\n",
        "\n",
        "# Set the number of nodes to select\n",
        "k = 10\n",
        "\n",
        "# Run CELF algorithm with fair embeddings\n",
        "t1 = time.time()\n",
        "fair_seed_nodes = celf_influence_maximization_with_embeddings(fair_embeddings, k)\n",
        "t2 = time.time()\n",
        "print(\"Fair Seed Nodes:\", fair_seed_nodes)\n",
        "fair_influenced_list = IC(G, fair_seed_nodes, 0.2, 0, 0)\n",
        "print(\"Influence Spreadis: \", len(fair_influenced_list))\n",
        "# print(\"Influence after fair seed embeddings:\", influenced_list) #Edited\n",
        "print(\"Time taken: \", t2-t1)\n",
        "print(\"\\n\\n\")\n",
        "# Run CELF algorithm with pre embeddings\n",
        "t3 = time.time()\n",
        "pre_seed_nodes = celf_influence_maximization_with_embeddings(pre_embeddings, k)\n",
        "t4 = time.time()\n",
        "print(\"Pre Seed Nodes:\", pre_seed_nodes)\n",
        "pre_influenced_list = IC(G, pre_seed_nodes, 0.2, 0, 0)\n",
        "print(\"Influence Spreadis: \", len(pre_influenced_list))\n",
        "# print(\"Influence after fair seed embeddings:\", influenced_list) #Edited\n",
        "print(\"Time taken: \", t4-t3)"
      ]
    },
    {
      "cell_type": "code",
      "execution_count": null,
      "metadata": {
        "id": "GoqAyAYdI6T8",
        "colab": {
          "base_uri": "https://localhost:8080/"
        },
        "outputId": "eb90fd3f-e592-4f7e-a6d6-e7b3fc393cf6"
      },
      "outputs": [
        {
          "output_type": "stream",
          "name": "stdout",
          "text": [
            "Fair Seed Nodes: [0, 183, 252, 294, 322, 336, 348, 357, 365, 370]\n",
            "Influence Spreadis:  428\n",
            "Time taken:  0.5417964458465576\n",
            "\n",
            "\n",
            "\n",
            "Pre Seed Nodes: [0, 205, 287, 327, 349, 365, 375, 383, 389, 394]\n",
            "Influence Spreadis:  432\n",
            "Time taken:  0.24958157539367676\n"
          ]
        }
      ],
      "source": [
        "import networkx as nx\n",
        "from sklearn.cluster import SpectralClustering\n",
        "from queue import PriorityQueue\n",
        "import random\n",
        "\n",
        "def celfpp_influence_maximization_with_embeddings(embeddings, k):\n",
        "    \"\"\"\n",
        "    CELF++ algorithm for influence maximization using node embeddings.\n",
        "\n",
        "    Args:\n",
        "        embeddings: Embeddings of nodes generated by the autoencoder.\n",
        "        k: the number of nodes to select.\n",
        "\n",
        "    Returns:\n",
        "        A list of k nodes that maximizes the spread of influence.\n",
        "    \"\"\"\n",
        "\n",
        "    S = [] # Selected nodes\n",
        "    pq = PriorityQueue() # Priority queue of candidate nodes\n",
        "\n",
        "    # Spectral Clustering\n",
        "    cluster_model = SpectralClustering(n_clusters=2, affinity='nearest_neighbors', random_state=0)  # Assuming 2 clusters for demonstration\n",
        "    cluster_labels = cluster_model.fit_predict(embeddings)\n",
        "\n",
        "    # Compute the marginal gain of each node\n",
        "    for node in range(len(embeddings)):\n",
        "        mg = get_marginal_gain_with_embeddings(embeddings, S, node, cluster_labels)\n",
        "        pq.put((-mg, node))\n",
        "\n",
        "    # Select the top k nodes with highest marginal gain\n",
        "    while len(S) < k:\n",
        "        while True:\n",
        "            _, node = pq.get()\n",
        "            if node not in S:\n",
        "                S.append(node)\n",
        "                break\n",
        "        # Update the priority queue with the new marginal gains\n",
        "        for neighbor in range(len(embeddings)):\n",
        "            if neighbor not in S:\n",
        "                mg = get_marginal_gain_with_embeddings(embeddings, S, neighbor, cluster_labels)\n",
        "                if mg > 0:\n",
        "                    old_mg = -pq.queue[-1][0] if pq.qsize() == k else 0\n",
        "                    if mg > old_mg:\n",
        "                        pq.put((-mg, neighbor))\n",
        "                        if pq.qsize() > k:\n",
        "                            pq.get()\n",
        "\n",
        "    return S\n",
        "\n",
        "def get_marginal_gain_with_embeddings(embeddings, S, node, cluster_labels):\n",
        "    \"\"\"\n",
        "    Compute the marginal gain of a node given a set of seed nodes S using embeddings.\n",
        "\n",
        "    Args:\n",
        "        embeddings: Embeddings of nodes generated by the autoencoder.\n",
        "        S: a list of seed nodes.\n",
        "        node: the node to evaluate.\n",
        "        cluster_labels: Labels obtained from Spectral Clustering.\n",
        "\n",
        "    Returns:\n",
        "        The marginal gain of the node.\n",
        "    \"\"\"\n",
        "\n",
        "    if node in S:\n",
        "        return 0\n",
        "\n",
        "    H = nx.Graph() # Create a graph for computing influence spread\n",
        "    H.add_node(node) # Add the node to the graph\n",
        "    for n in S:\n",
        "        H.add_node(n) # Add seed nodes to the graph\n",
        "        cluster_similarity = 1 if cluster_labels[node] == cluster_labels[n] else 0  # Check if nodes belong to the same cluster\n",
        "        H.add_edge(node, n, weight=cluster_similarity) # Add edges with cluster similarity as weight\n",
        "\n",
        "    # Compute the influence spread of the node\n",
        "    activated_nodes = set([node])\n",
        "    while True:\n",
        "        activated_nodes_prev = activated_nodes.copy()\n",
        "        for n in activated_nodes_prev:\n",
        "            for m in H.neighbors(n):\n",
        "                if m not in activated_nodes:\n",
        "                    if random.random() < H[n][m]['weight']:\n",
        "                        activated_nodes.add(m)\n",
        "        if activated_nodes == activated_nodes_prev:\n",
        "            break\n",
        "    influence = len(activated_nodes)\n",
        "\n",
        "    # Compute the marginal gain\n",
        "    return influence - len(S)\n",
        "\n",
        "# Assuming you have generated the fair and pre embeddings from the existing code\n",
        "fair_embeddings = fair_embds.numpy()\n",
        "pre_embeddings = pre_embds.numpy()\n",
        "\n",
        "# Set the number of nodes to select\n",
        "k = 10\n",
        "\n",
        "# Run CELF++ algorithm with fair embeddings\n",
        "t1 = time.time()\n",
        "fair_seed_nodes = celfpp_influence_maximization_with_embeddings(fair_embeddings, k)\n",
        "t2 = time.time()\n",
        "print(\"Fair Seed Nodes:\", fair_seed_nodes)\n",
        "fair_influenced_list = IC(G, fair_seed_nodes, 0.2, 0, 0)\n",
        "print(\"Influence Spreadis: \", len(fair_influenced_list))\n",
        "# print(\"Influence after fair seed embeddings:\", influenced_list) #Edited\n",
        "print(\"Time taken: \", t2-t1)\n",
        "print(\"\\n\\n\")\n",
        "\n",
        "# Run CELF++ algorithm with pre embeddings\n",
        "t3 = time.time()\n",
        "pre_seed_nodes = celfpp_influence_maximization_with_embeddings(pre_embeddings, k)\n",
        "t4 = time.time()\n",
        "print(\"Pre Seed Nodes:\", pre_seed_nodes)\n",
        "pre_influenced_list = IC(G, pre_seed_nodes, 0.2, 0, 0)\n",
        "print(\"Influence Spreadis: \", len(pre_influenced_list))\n",
        "# print(\"Influence after fair seed embeddings:\", influenced_list) #Edited\n",
        "print(\"Time taken: \", t4-t3)"
      ]
    },
    {
      "cell_type": "code",
      "execution_count": null,
      "metadata": {
        "id": "D0zMuLkjJUQ_",
        "colab": {
          "base_uri": "https://localhost:8080/"
        },
        "outputId": "1193414d-c1af-497f-8aef-5a1b7fe47469"
      },
      "outputs": [
        {
          "output_type": "stream",
          "name": "stdout",
          "text": [
            "Cluster labels: [0 0 0 0 0 0 0 0 0 0 0 0 0 0 0 0 0 0 0 0 0 0 0 0 0 0 0 0 0 1 0 0 1 0 0 0 0\n",
            " 0 0 0 0 0 0 0 0 0 0 0 0 0 0 0 0 1 1 0 0 0 0 0 0 0 0 0 0 0 0 0 0 0 0 0 1 1\n",
            " 1 1 0 0 0 0 0 0 0 0 1 1 0 0 0 0 0 0 0 0 0 0 0 0 0 0 0 0 0 1 1 1 1 0 0 0 0\n",
            " 0 0 0 1 0 0 1 0 0 1 1 0 0 0 0 0 0 0 1 0 0 1 1 0 0 0 0 0 0 0 0 0 1 0 0 0 1\n",
            " 0 0 0 0 0 1 0 0 0 0 0 0 0 0 0 1 0 0 0 0 1 0 1 0 0 0 1 0 1 0 0 0 0 0 0 0 0\n",
            " 0 1 0 0 1 1 1 0 0 1 0 0 0 0 0 1 0 0 0 0 0 0 0 1 0 0 0 0 0 0 0 0 0 0 0 0 0\n",
            " 1 0 0 0 0 1 0 0 0 1 0 0 0 0 0 0 0 0 0 0 0 0 0 0 0 0 0 0 1 0 0 0 0 0 0 0 0\n",
            " 0 0 0 1 1 1 1 1 1 0 1 1 0 0 0 0 1 0 0 1 1 0 0 0 0 1 0 0 1 0 0 1 0 0 0 0 0\n",
            " 1 0 1 1 1 0 1 0 0 0 1 0 1 0 0 0 0 0 0 1 1 0 0 1 0 1 0 0 0 1 0 0 0 0 0 0 0\n",
            " 0 0 0 0 0 0 0 0 0 0 0 0 1 1 1 0 1 0 0 0 0 1 0 0 0 0 0 1 0 0 0 1 0 1 0 0 0\n",
            " 0 0 1 0 0 0 0 1 0 0 0 0 1 0 1 1 0 0 0 1 1 1 1 0 1 0 0 1 1 0 1 0 0 1 0 0 0\n",
            " 0 0 0 0 1 1 0 0 0 0 0 0 0 0 1 0 0 0 1 1 0 1 1 1 0 1 0 1 1 1 1 1 1 1]\n",
            "Fair Seed Nodes: [0, 9, 63, 276, 6, 16, 402, 154, 3, 10]\n",
            "Influence Spreadis:  430\n",
            "Time taken:  2.88181209564209\n",
            "\n",
            "\n",
            "\n",
            "Cluster labels: [1 1 1 1 1 1 1 1 1 1 1 1 1 0 1 1 1 0 1 1 1 1 1 1 1 1 0 1 1 1 1 1 1 1 1 1 1\n",
            " 1 1 0 1 1 1 1 1 1 1 1 1 1 1 1 1 1 1 1 1 0 1 1 1 1 1 1 1 1 0 1 1 1 1 0 1 1\n",
            " 1 1 1 1 1 1 1 1 1 1 1 1 1 1 1 1 1 1 1 1 1 1 1 1 1 1 0 0 1 1 1 1 1 1 1 1 1\n",
            " 1 1 1 1 1 1 1 1 1 1 1 1 0 1 1 1 1 1 1 1 1 1 1 0 1 1 0 1 1 1 1 1 1 0 1 1 1\n",
            " 1 1 1 1 1 1 1 1 1 1 1 1 1 1 1 1 1 1 1 1 1 1 1 0 1 1 1 1 1 1 1 1 0 1 1 1 1\n",
            " 1 1 1 1 1 1 1 1 1 1 0 1 1 1 1 1 1 1 1 1 1 0 1 1 1 1 0 0 0 0 0 0 0 1 0 0 0\n",
            " 1 0 0 0 1 1 1 1 1 1 1 1 1 1 1 1 1 0 0 1 1 1 1 1 1 1 1 1 1 1 1 1 1 1 1 1 1\n",
            " 1 1 0 1 1 1 1 1 1 1 1 1 0 1 1 1 1 1 1 1 0 0 1 0 1 1 1 1 1 1 1 1 1 0 1 1 1\n",
            " 1 1 1 1 1 1 1 1 1 1 1 1 1 0 0 0 1 1 1 1 1 1 1 1 1 1 0 1 1 1 1 1 1 1 1 1 1\n",
            " 1 1 1 1 0 1 1 1 1 1 1 1 1 1 1 1 1 0 1 1 1 1 1 1 1 1 1 1 1 1 1 1 1 1 1 1 1\n",
            " 1 1 1 1 1 1 1 1 1 1 1 1 1 1 1 1 1 1 1 1 1 1 1 1 1 1 0 1 1 1 1 1 1 1 1 1 1\n",
            " 0 1 1 1 1 1 1 1 0 1 1 1 1 1 1 1 1 1 1 1 1 1 1 1 1 1 0 1 1 1 1 1 1 1]\n",
            "Pre Seed Nodes: [0, 11, 64, 121, 105, 108, 183, 242, 323, 68]\n",
            "Influence Spreadis:  429\n",
            "Time taken:  3.241069793701172\n"
          ]
        }
      ],
      "source": [
        "import networkx as nx\n",
        "import heapq\n",
        "import random\n",
        "from sklearn.cluster import SpectralClustering\n",
        "\n",
        "def similarity(embedding1, embedding2):\n",
        "  dot_product = sum(a * b for a, b in zip(embedding1, embedding2))\n",
        "  magnitude1 = sum(a ** 2 for a in embedding1) ** 0.5\n",
        "  magnitude2 = sum(b ** 2 for b in embedding2) ** 0.5\n",
        "  return dot_product / (magnitude1 * magnitude2)\n",
        "\n",
        "def celfie_influence_maximization_with_embeddings(embeddings, k, alpha=0.1):\n",
        "  S = []\n",
        "  pq = []\n",
        "\n",
        "  cluster_model = SpectralClustering(n_clusters=2, affinity='nearest_neighbors', random_state=0)\n",
        "  cluster_labels = cluster_model.fit_predict(embeddings)\n",
        "\n",
        "  print(\"Cluster labels:\", cluster_labels)\n",
        "\n",
        "  for node in range(len(embeddings)):\n",
        "      mg, ie = get_marginal_gain_and_influence_estimate_with_embeddings(embeddings, S, node, cluster_labels, alpha)\n",
        "      heapq.heappush(pq, (-mg, node, ie))\n",
        "\n",
        "  while len(S) < k:\n",
        "      _, node, ie = heapq.heappop(pq)\n",
        "      S.append(node)\n",
        "      for neighbor in range(len(embeddings)):\n",
        "          if neighbor not in S:\n",
        "              mg, ie = get_marginal_gain_and_influence_estimate_with_embeddings(embeddings, S, neighbor, cluster_labels, alpha)\n",
        "              heapq.heappush(pq, (-mg, neighbor, ie))\n",
        "\n",
        "  # print(\"Fair Seed Nodes:\", S)\n",
        "  return S\n",
        "\n",
        "\n",
        "def get_marginal_gain_and_influence_estimate_with_embeddings(embeddings, S, node, cluster_labels, alpha):\n",
        "  if node in S:\n",
        "      return 0, 0\n",
        "\n",
        "  H = nx.Graph()\n",
        "  H.add_node(node)\n",
        "  for n in S:\n",
        "      H.add_node(n)\n",
        "      similarity1 = similarity(embeddings[node], embeddings[n]) if cluster_labels[node] == cluster_labels[n] else 0\n",
        "      H.add_edge(node, n, weight=similarity1)\n",
        "\n",
        "  activated_nodes = set([node])\n",
        "  while True:\n",
        "      activated_nodes_prev = activated_nodes.copy()\n",
        "      for n in activated_nodes_prev:\n",
        "          for m in H.neighbors(n):\n",
        "              if m not in activated_nodes and random.random() < H[n][m]['weight']:\n",
        "                  activated_nodes.add(m)\n",
        "      if activated_nodes == activated_nodes_prev:\n",
        "          break\n",
        "  initial_influence = len(activated_nodes)\n",
        "\n",
        "  H.nodes[node]['activated'] = True\n",
        "  activated_nodes.add(node)\n",
        "  while True:\n",
        "      activated_nodes_prev = activated_nodes.copy()\n",
        "      for n in activated_nodes_prev:\n",
        "          for m in H.neighbors(n):\n",
        "              if m not in activated_nodes and random.random() < H[n][m]['weight']:\n",
        "                  activated_nodes.add(m)\n",
        "      if activated_nodes == activated_nodes_prev:\n",
        "          break\n",
        "  influence = len(activated_nodes)\n",
        "\n",
        "  ie = (influence - initial_influence) / alpha + initial_influence\n",
        "  mg = ie - len(S)\n",
        "  return mg, ie\n",
        "\n",
        "\n",
        "\n",
        "\n",
        "\n",
        "# Assuming you have generated the fair and pre embeddings from the existing code\n",
        "fair_embeddings = fair_embds.numpy()\n",
        "pre_embeddings = pre_embds.numpy()\n",
        "\n",
        "# Set the number of nodes to select\n",
        "k = 10\n",
        "\n",
        "# Run CELFIE algorithm with fair embeddings\n",
        "t1 = time.time()\n",
        "fair_seed_nodes = celfie_influence_maximization_with_embeddings(fair_embeddings, k)\n",
        "t2 = time.time()\n",
        "print(\"Fair Seed Nodes:\", fair_seed_nodes)\n",
        "fair_influenced_list = IC(G, fair_seed_nodes, 0.2, 0, 0)\n",
        "print(\"Influence Spreadis: \", len(fair_influenced_list))\n",
        "# print(\"Influence after fair seed embeddings:\", influenced_list) #Edited\n",
        "print(\"Time taken: \", t2-t1)\n",
        "print(\"\\n\\n\")\n",
        "\n",
        "# Run CELFIE algorithm with pre embeddings\n",
        "t3 = time.time()\n",
        "pre_seed_nodes = celfie_influence_maximization_with_embeddings(pre_embeddings, k)\n",
        "t4 = time.time()\n",
        "print(\"Pre Seed Nodes:\", pre_seed_nodes)\n",
        "pre_influenced_list = IC(G, pre_seed_nodes, 0.2, 0, 0)\n",
        "print(\"Influence Spreadis: \", len(pre_influenced_list))\n",
        "# print(\"Influence after fair seed embeddings:\", influenced_list) #Edited\n",
        "print(\"Time taken: \", t4-t3)"
      ]
    },
    {
      "cell_type": "code",
      "source": [
        "# # @title CELF with Graph (Not Embeddings)\n",
        "# def celf_with_graph(g,k,p=0.1,mc=1000):\n",
        "#     \"\"\"\n",
        "#     Input:  graph object, number of seed nodes\n",
        "#     Output: optimal seed set, resulting spread, time for each iteration\n",
        "#     \"\"\"\n",
        "\n",
        "#     # --------------------\n",
        "#     # Find the first node with greedy algorithm\n",
        "#     # --------------------\n",
        "\n",
        "#     # Calculate the first iteration sorted list\n",
        "#     start_time = time.time()\n",
        "#     marg_gain = [IC(g,[node],p,mc) for node in range(g.vcount())]\n",
        "\n",
        "#     # Create the sorted list of nodes and their marginal gain\n",
        "#     Q = sorted(zip(range(g.vcount()),marg_gain), key=lambda x: x[1],reverse=True)\n",
        "\n",
        "#     # Select the first node and remove from candidate list\n",
        "#     S, spread, SPREAD = [Q[0][0]], Q[0][1], [Q[0][1]]\n",
        "#     Q, LOOKUPS, timelapse = Q[1:], [g.vcount()], [time.time()-start_time]\n",
        "\n",
        "#     # --------------------\n",
        "#     # Find the next k-1 nodes using the list-sorting procedure\n",
        "#     # --------------------\n",
        "\n",
        "#     for _ in range(k-1):\n",
        "\n",
        "#         check, node_lookup = False, 0\n",
        "\n",
        "#         while not check:\n",
        "\n",
        "#             # Count the number of times the spread is computed\n",
        "#             node_lookup += 1\n",
        "\n",
        "#             # Recalculate spread of top node\n",
        "#             current = Q[0][0]\n",
        "\n",
        "#             # Evaluate the spread function and store the marginal gain in the list\n",
        "#             Q[0] = (current,IC(g,S+[current],p,mc) - spread)\n",
        "\n",
        "#             # Re-sort the list\n",
        "#             Q = sorted(Q, key = lambda x: x[1], reverse = True)\n",
        "\n",
        "#             # Check if previous top node stayed on top after the sort\n",
        "#             check = (Q[0][0] == current)\n",
        "\n",
        "#         # Select the next node\n",
        "#         spread += Q[0][1]\n",
        "#         S.append(Q[0][0])\n",
        "#         SPREAD.append(spread)\n",
        "#         LOOKUPS.append(node_lookup)\n",
        "#         timelapse.append(time.time() - start_time)\n",
        "\n",
        "#         # Remove the selected node from the list\n",
        "#         Q = Q[1:]\n",
        "\n",
        "#     return(S,SPREAD,timelapse,LOOKUPS)"
      ],
      "metadata": {
        "id": "RZnKsMfmg6cT"
      },
      "execution_count": null,
      "outputs": []
    },
    {
      "cell_type": "code",
      "source": [
        "import networkx as nx\n",
        "import numpy as np\n",
        "import time\n",
        "\n",
        "def celf_with_graph(g, k, p=0.1, mc=100):\n",
        "    \"\"\"\n",
        "    Input:  graph object, number of seed nodes\n",
        "    Output: optimal seed set, resulting spread, time for each iteration\n",
        "    \"\"\"\n",
        "\n",
        "    # --------------------\n",
        "    # Find the first node with greedy algorithm\n",
        "    # --------------------\n",
        "\n",
        "    # Calculate the first iteration sorted list\n",
        "    start_time = time.time()\n",
        "    marg_gain = [IC(g, [node], p, mc) for node in range(len(g))]\n",
        "\n",
        "    # Create the sorted list of nodes and their marginal gain\n",
        "    Q = sorted(zip(range(len(g)), marg_gain), key=lambda x: x[1], reverse=True)\n",
        "\n",
        "    # Select the first node and remove from candidate list\n",
        "    S, spread, SPREAD = [Q[0][0]], Q[0][1], [Q[0][1]]\n",
        "    Q, LOOKUPS, timelapse = Q[1:], [len(g)], [time.time() - start_time]\n",
        "\n",
        "    # --------------------\n",
        "    # Find the next k-1 nodes using the list-sorting procedure\n",
        "    # --------------------\n",
        "\n",
        "    for _ in range(k - 1):\n",
        "\n",
        "        check, node_lookup = False, 0\n",
        "\n",
        "        while not check:\n",
        "\n",
        "            # Count the number of times the spread is computed\n",
        "            node_lookup += 1\n",
        "\n",
        "            # Recalculate spread of top node\n",
        "            current = Q[0][0]\n",
        "\n",
        "            # Evaluate the spread function and store the marginal gain in the list\n",
        "            Q[0] = (current, IC(g, S + [current], p, mc) - spread)\n",
        "\n",
        "            # Re-sort the list\n",
        "            Q = sorted(Q, key=lambda x: x[1], reverse=True)\n",
        "\n",
        "            # Check if previous top node stayed on top after the sort\n",
        "            check = (Q[0][0] == current)\n",
        "\n",
        "        # Select the next node\n",
        "        spread += Q[0][1]\n",
        "        S.append(Q[0][0])\n",
        "        SPREAD.append(spread)\n",
        "        LOOKUPS.append(node_lookup)\n",
        "        timelapse.append(time.time() - start_time)\n",
        "\n",
        "        # Remove the selected node from the list\n",
        "        Q = Q[1:]\n",
        "\n",
        "    return (S, SPREAD, timelapse, LOOKUPS)\n",
        "\n",
        "def IC(G, S, p, mc):\n",
        "    \"\"\"\n",
        "    Input:  graph object, set of seed nodes, propagation probability\n",
        "    Output: average number of nodes influenced by the seed nodes\n",
        "    \"\"\"\n",
        "    spread = []\n",
        "    for i in range(mc):\n",
        "        new_active, A = S[:], S[:]\n",
        "        while new_active:\n",
        "            new_ones = []\n",
        "            for node in new_active:\n",
        "                np.random.seed(i)\n",
        "                success = np.random.uniform(0, 1, len(G[node])) < p\n",
        "                new_ones += list(np.extract(success, list(G[node])))\n",
        "\n",
        "            new_active = list(set(new_ones) - set(A))\n",
        "            A += new_active\n",
        "        spread.append(len(A))\n",
        "    return (float(sum(spread)) / mc)\n",
        "\n",
        "# Example usage:\n",
        "# Generate a NetworkX graph from a NumPy array\n",
        "adjacency_matrix = np.random.randint(2, size=(10, 10))  # Example adjacency matrix\n",
        "g = nx.from_numpy_array(adjacency_matrix)\n",
        "\n",
        "# Set parameters\n",
        "k = 5  # Number of seed nodes\n",
        "p = 0.1  # Propagation probability\n",
        "mc = 1000  # Monte Carlo simulations\n",
        "\n",
        "# Run the CELF algorithm\n",
        "result = celf_with_graph(g, k, p, mc)\n",
        "print(\"Optimal Seed Set:\", result[0])\n",
        "print(\"Resulting Spread:\", result[1][-1])\n",
        "print(\"Time for Each Iteration:\", result[2])\n",
        "print(\"Number of Lookups for Each Iteration:\", result[3])\n"
      ],
      "metadata": {
        "id": "AY3o71q4wrmt",
        "colab": {
          "base_uri": "https://localhost:8080/"
        },
        "outputId": "2daae098-03fe-4400-e71b-8aa016dba578"
      },
      "execution_count": null,
      "outputs": [
        {
          "output_type": "stream",
          "name": "stdout",
          "text": [
            "Optimal Seed Set: [0, 5, 1, 3, 7]\n",
            "Resulting Spread: 6.6\n",
            "Time for Each Iteration: [0.5677065849304199, 1.5748050212860107, 2.19502854347229, 2.3721790313720703, 2.995861530303955]\n",
            "Number of Lookups for Each Iteration: [10, 10, 7, 1, 5]\n"
          ]
        }
      ]
    },
    {
      "cell_type": "code",
      "source": [
        "# Run algorithms\n",
        "t = time.time()\n",
        "celf_output   = celf_with_graph(G,10,p = 0.1,mc = 1)\n",
        "t1 = time.time()\n",
        "\n",
        "# Print resulting seed sets\n",
        "print(\"celf output:   \" + str(celf_output[0]), \"time : \", t1-t)\n",
        "# influenced_list = IC(G, celf_output, 0.2, 0,0)\n",
        "# print(\"Influence Spreadis: \", len(influenced_list))\n",
        "\n",
        "dni_celf = IC(G,celf_output[0],p=0.5,mc=100)\n",
        "print(\"DNI celf of erdos \",dni_celf)"
      ],
      "metadata": {
        "colab": {
          "base_uri": "https://localhost:8080/"
        },
        "id": "TnYkFuumg6L1",
        "outputId": "96d27ad7-a1b1-4985-f74d-cb52971469b3"
      },
      "execution_count": null,
      "outputs": [
        {
          "output_type": "stream",
          "name": "stdout",
          "text": [
            "celf output:   [11, 319, 428, 426, 365, 359, 334, 317, 310, 279] time :  8.456663608551025\n",
            "DNI celf of erdos  434.64\n"
          ]
        }
      ]
    },
    {
      "cell_type": "code",
      "source": [
        "# # @title CELF++ with Graph (Not Embeddings)\n",
        "# import numpy as np\n",
        "# import heapq\n",
        "\n",
        "# def celf_plus_plus(g, k, p=0.1, mc=100):\n",
        "#     \"\"\"\n",
        "#     Input:  graph object, number of seed nodes\n",
        "#     Output: optimal seed set, resulting spread, time for each iteration\n",
        "#     \"\"\"\n",
        "\n",
        "#     # Initialize lists to store results\n",
        "#     S, spread, timelapse, start_time = [], [0], [], time.time()\n",
        "\n",
        "#     # Initialize priority queue Q\n",
        "#     Q = []\n",
        "\n",
        "#     # Initialize variables to keep track of last seed and current best\n",
        "#     last_seed = None\n",
        "#     cur_best = None\n",
        "\n",
        "#     # Step 2: Initialize nodes with their marginal gains\n",
        "#     for u in range(g.vcount()):\n",
        "#         mg1 = IC(g, [u], p, mc)\n",
        "#         mg2 = IC(g, [u, cur_best], p, mc) if cur_best is not None else mg1\n",
        "#         node_data = (mg1, mg2, u, 0)\n",
        "#         heapq.heappush(Q, node_data)\n",
        "\n",
        "#     # Step 4: Update cur_best based on mg1 of the first node in Q\n",
        "#     _, _, cur_best, _ = Q[0]\n",
        "\n",
        "#     # Main loop\n",
        "#     while len(S) < k:\n",
        "#         # Step 6: Get the top (root) element in Q\n",
        "#         mg1, mg2, u, flag = heapq.heappop(Q)\n",
        "\n",
        "#         # Step 7: Check if node was flagged in the previous iteration\n",
        "#         if flag == len(S):\n",
        "#             # Step 8: Add u to the seed set S\n",
        "#             S.append(u)\n",
        "#             # Step 9: Remove u from Q\n",
        "#             continue\n",
        "\n",
        "#         # Step 10: Check if u.prev_best is equal to the last seed\n",
        "#         if u == last_seed:\n",
        "#             mg1 = mg2  # Step 11\n",
        "\n",
        "#         # Step 12: Update mg1, mg2 for u\n",
        "#         mg1 = IC(g, S + [u], p, mc) - spread[-1]\n",
        "#         mg2 = IC(g, S + [u, cur_best], p, mc) - spread[-1]\n",
        "\n",
        "#         # Step 13: Update u.prev_best and u.mg2\n",
        "#         u_prev_best = cur_best\n",
        "#         u_mg2 = mg2\n",
        "\n",
        "#         # Step 14: Update cur_best\n",
        "#         if mg1 > 0:\n",
        "#             cur_best = u\n",
        "#         else:\n",
        "#             cur_best = u_prev_best\n",
        "\n",
        "#         # Step 15: Reinsert u into Q and heapify\n",
        "#         u_flag = len(S)\n",
        "#         node_data = (mg1, u_mg2, u, u_flag)\n",
        "#         heapq.heappush(Q, node_data)\n",
        "\n",
        "#         # Update results\n",
        "#         spread.append(spread[-1] + mg1)\n",
        "#         timelapse.append(time.time() - start_time)\n",
        "\n",
        "#         # Update last seed\n",
        "#         last_seed = u\n",
        "\n",
        "#     return S, spread[1:], timelapse\n",
        "\n",
        "\n",
        "\n",
        "# # Example usage\n",
        "# #G = Graph.Erdos_Renyi(n=100, m=300, directed=True)\n",
        "\n",
        "\n"
      ],
      "metadata": {
        "id": "ZIoqFZ_Hhfe6"
      },
      "execution_count": null,
      "outputs": []
    },
    {
      "cell_type": "code",
      "source": [
        "import numpy as np\n",
        "import heapq\n",
        "import time\n",
        "\n",
        "def celf_plus_plus_with_Graph(g, k, p=0.1, mc=100):\n",
        "    \"\"\"\n",
        "    Input:  graph object, number of seed nodes\n",
        "    Output: optimal seed set, resulting spread, time for each iteration\n",
        "    \"\"\"\n",
        "\n",
        "    # Initialize lists to store results\n",
        "    S, spread, timelapse, start_time = [], [0], [], time.time()\n",
        "\n",
        "    # Initialize priority queue Q\n",
        "    Q = []\n",
        "\n",
        "    # Initialize variables to keep track of last seed and current best\n",
        "    last_seed = None\n",
        "    cur_best = None\n",
        "\n",
        "    # Convert the NetworkX graph to a NumPy adjacency matrix\n",
        "    A = nx.to_numpy_array(g)\n",
        "\n",
        "    # Step 2: Initialize nodes with their marginal gains\n",
        "    for u in range(len(A)):\n",
        "        mg1 = IC(A, [u], p, mc)\n",
        "        mg2 = IC(A, [u, cur_best], p, mc) if cur_best is not None else mg1\n",
        "        node_data = (mg1, mg2, u, 0)\n",
        "        heapq.heappush(Q, node_data)\n",
        "\n",
        "    # Step 4: Update cur_best based on mg1 of the first node in Q\n",
        "    _, _, cur_best, _ = Q[0]\n",
        "\n",
        "    # Main loop\n",
        "    while len(S) < k:\n",
        "        # Step 6: Get the top (root) element in Q\n",
        "        mg1, mg2, u, flag = heapq.heappop(Q)\n",
        "\n",
        "        # Step 7: Check if node was flagged in the previous iteration\n",
        "        if flag == len(S):\n",
        "            # Step 8: Add u to the seed set S\n",
        "            S.append(u)\n",
        "            # Step 9: Remove u from Q\n",
        "            continue\n",
        "\n",
        "        # Step 10: Check if u.prev_best is equal to the last seed\n",
        "        if u == last_seed:\n",
        "            mg1 = mg2  # Step 11\n",
        "\n",
        "        # Step 12: Update mg1, mg2 for u\n",
        "        mg1 = IC(A, S + [u], p, mc) - spread[-1]\n",
        "        mg2 = IC(A, S + [u, cur_best], p, mc) - spread[-1]\n",
        "\n",
        "        # Step 13: Update u.prev_best and u.mg2\n",
        "        u_prev_best = cur_best\n",
        "        u_mg2 = mg2\n",
        "\n",
        "        # Step 14: Update cur_best\n",
        "        if mg1 > 0:\n",
        "            cur_best = u\n",
        "        else:\n",
        "            cur_best = u_prev_best\n",
        "\n",
        "        # Step 15: Reinsert u into Q and heapify\n",
        "        u_flag = len(S)\n",
        "        node_data = (mg1, u_mg2, u, u_flag)\n",
        "        heapq.heappush(Q, node_data)\n",
        "\n",
        "        # Update results\n",
        "        spread.append(spread[-1] + mg1)\n",
        "        timelapse.append(time.time() - start_time)\n",
        "\n",
        "        # Update last seed\n",
        "        last_seed = u\n",
        "\n",
        "    return S, spread[1:], timelapse\n",
        "\n",
        "\n",
        "# def IC(G, S, p, mc):\n",
        "#     \"\"\"\n",
        "#     Input:  adjacency matrix (NumPy array), set of seed nodes, propagation probability\n",
        "#     Output: average number of nodes influenced by the seed nodes\n",
        "#     \"\"\"\n",
        "#     spread = []\n",
        "#     for i in range(mc):\n",
        "#         new_active, A = S[:], S[:]\n",
        "#         while new_active:\n",
        "#             new_ones = []\n",
        "#             for node in new_active:\n",
        "#                 np.random.seed(i)\n",
        "#                 # Retrieve neighbors of the current node from the adjacency matrix\n",
        "#                 neighbors = np.where(G[node] == 1)[0]\n",
        "#                 # Calculate success for each neighbor\n",
        "#                 success = np.random.uniform(0, 1, len(neighbors)) < p\n",
        "#                 # Extract the neighbors that are successfully influenced\n",
        "#                 new_ones += [neighbor for neighbor, succ in zip(neighbors, success) if succ]\n",
        "\n",
        "#             new_active = list(set(new_ones) - set(A))\n",
        "#             A += new_active\n",
        "#         spread.append(len(A))\n",
        "#     return (float(sum(spread)) / mc)\n",
        "\n",
        "# def IC(G, S, p, mc):\n",
        "#     \"\"\"\n",
        "#     Input:  adjacency matrix (NumPy array), set of seed nodes, propagation probability\n",
        "#     Output: average number of nodes influenced by the seed nodes\n",
        "#     \"\"\"\n",
        "#     spread = []\n",
        "#     for i in range(mc):\n",
        "#         new_active, A = S[:], S[:]\n",
        "#         while new_active:\n",
        "#             new_ones = []\n",
        "#             for node in new_active:\n",
        "#                 np.random.seed(i)\n",
        "#                 # Retrieve neighbors of the current node from the adjacency matrix\n",
        "#                 neighbor_indices = np.where(G[node] == 1)\n",
        "#                 if neighbor_indices[0].size > 0:\n",
        "#                     neighbors = neighbor_indices[0]\n",
        "#                     # Calculate success for each neighbor\n",
        "#                     success = np.random.uniform(0, 1, len(neighbors)) < p\n",
        "#                     # Extract the neighbors that are successfully influenced\n",
        "#                     new_ones += [neighbor for neighbor, succ in zip(neighbors, success) if succ]\n",
        "\n",
        "#             new_active = list(set(new_ones) - set(A))\n",
        "#             A += new_active\n",
        "#         spread.append(len(A))\n",
        "#     return (float(sum(spread)) / mc)\n",
        "\n",
        "\n",
        "import numpy as np\n",
        "\n",
        "def IC(G, S, p, mc):\n",
        "    \"\"\"\n",
        "    Input:  adjacency matrix (NumPy array), set of seed nodes, propagation probability\n",
        "    Output: average number of nodes influenced by the seed nodes\n",
        "    \"\"\"\n",
        "    spread = []\n",
        "    for i in range(mc):\n",
        "        new_active, A = S[:], S[:]\n",
        "        while new_active:\n",
        "            new_ones = []\n",
        "            for node in new_active:\n",
        "                np.random.seed(i)\n",
        "                # Ensure G[node] is treated as a 1-dimensional array\n",
        "                neighbor_indices = np.where(np.ravel(G[node]) == 1)\n",
        "                if neighbor_indices[0].size > 0:\n",
        "                    neighbors = neighbor_indices[0]\n",
        "                    # Calculate success for each neighbor\n",
        "                    success = np.random.uniform(0, 1, len(neighbors)) < p\n",
        "                    # Extract the neighbors that are successfully influenced\n",
        "                    new_ones += [neighbor for neighbor, succ in zip(neighbors, success) if succ]\n",
        "\n",
        "            new_active = list(set(new_ones) - set(A))\n",
        "            A += new_active\n",
        "        spread.append(len(A))\n",
        "    return (float(sum(spread)) / mc)\n",
        "\n",
        "\n",
        "\n",
        "# Example usage\n",
        "# Assuming g is a NetworkX graph\n",
        "# S, spread, timelapse = celf_plus_plus(g, k)\n"
      ],
      "metadata": {
        "id": "O8LUTi2B8Oal"
      },
      "execution_count": null,
      "outputs": []
    },
    {
      "cell_type": "code",
      "source": [
        "# Run CELF++ algorithm\n",
        "t = time.time()\n",
        "celf_pp_output = celf_plus_plus_with_Graph(G, 10, p=0.1, mc=1)\n",
        "t1 = time.time()\n",
        "\n",
        "# Print resulting seed set\n",
        "print(\"celf++ output:\", celf_pp_output[0], \"time:\", t1 - t)\n",
        "\n",
        "\n",
        "dni_celf_pp = IC(G,celf_pp_output[0],p=0.5,mc=100)\n",
        "print(\"DNI celf_pp of erdos \",dni_celf_pp)"
      ],
      "metadata": {
        "id": "vXrdsllghfSo",
        "colab": {
          "base_uri": "https://localhost:8080/"
        },
        "outputId": "40e424a6-6533-4291-810a-01761a9a5b26"
      },
      "execution_count": null,
      "outputs": [
        {
          "output_type": "stream",
          "name": "stdout",
          "text": [
            "celf++ output: [75, 121, 133, 189, 222, 243, 252, 267, 354, 377] time: 4.047597408294678\n",
            "DNI celf_pp of erdos  10.0\n"
          ]
        }
      ]
    },
    {
      "cell_type": "code",
      "source": [
        "#%%time\n",
        "import networkx as nx\n",
        "# import igraph\n",
        "\n",
        "n = 100\n",
        "p = 0.1\n",
        "# G = erdos_renyi_graph(n, p)\n",
        "\n",
        "\n",
        "# Set the weights of the edges (optional)\n",
        "# for u, v in G.edges():\n",
        "#     G[u][v]['weight'] = 1\n",
        "# Run the CELF++ algorithm on the networkx graph G2\n",
        "k = 10\n",
        "t1 = time.time()\n",
        "\n",
        "# Convert networkx graph to igraph graph for compatibility\n",
        "G2_igraph = igraph.Graph.from_networkx(G)\n",
        "\n",
        "S2_cpp = celf_plus_plus(G2_igraph, k)\n",
        "t2 = time.time()\n",
        "\n",
        "# Print the selected nodes\n",
        "print(\"CELF++ output:\", S2_cpp[0], \"time:\", t2 - t1)\n"
      ],
      "metadata": {
        "id": "KKNyhhKyh6Vb",
        "colab": {
          "base_uri": "https://localhost:8080/",
          "height": 211
        },
        "outputId": "c1763a8c-d41e-43bf-967e-be57e7d5e2a9"
      },
      "execution_count": null,
      "outputs": [
        {
          "output_type": "error",
          "ename": "NameError",
          "evalue": "name 'igraph' is not defined",
          "traceback": [
            "\u001b[0;31m---------------------------------------------------------------------------\u001b[0m",
            "\u001b[0;31mNameError\u001b[0m                                 Traceback (most recent call last)",
            "\u001b[0;32m<ipython-input-81-6eedd78bfa98>\u001b[0m in \u001b[0;36m<cell line: 18>\u001b[0;34m()\u001b[0m\n\u001b[1;32m     16\u001b[0m \u001b[0;34m\u001b[0m\u001b[0m\n\u001b[1;32m     17\u001b[0m \u001b[0;31m# Convert networkx graph to igraph graph for compatibility\u001b[0m\u001b[0;34m\u001b[0m\u001b[0;34m\u001b[0m\u001b[0m\n\u001b[0;32m---> 18\u001b[0;31m \u001b[0mG2_igraph\u001b[0m \u001b[0;34m=\u001b[0m \u001b[0migraph\u001b[0m\u001b[0;34m.\u001b[0m\u001b[0mGraph\u001b[0m\u001b[0;34m.\u001b[0m\u001b[0mfrom_networkx\u001b[0m\u001b[0;34m(\u001b[0m\u001b[0mG\u001b[0m\u001b[0;34m)\u001b[0m\u001b[0;34m\u001b[0m\u001b[0;34m\u001b[0m\u001b[0m\n\u001b[0m\u001b[1;32m     19\u001b[0m \u001b[0;34m\u001b[0m\u001b[0m\n\u001b[1;32m     20\u001b[0m \u001b[0mS2_cpp\u001b[0m \u001b[0;34m=\u001b[0m \u001b[0mcelf_plus_plus\u001b[0m\u001b[0;34m(\u001b[0m\u001b[0mG2_igraph\u001b[0m\u001b[0;34m,\u001b[0m \u001b[0mk\u001b[0m\u001b[0;34m)\u001b[0m\u001b[0;34m\u001b[0m\u001b[0;34m\u001b[0m\u001b[0m\n",
            "\u001b[0;31mNameError\u001b[0m: name 'igraph' is not defined"
          ]
        }
      ]
    },
    {
      "cell_type": "code",
      "execution_count": null,
      "metadata": {
        "id": "cZZNOOTi5CXD"
      },
      "outputs": [],
      "source": [
        "import networkx as nx\n",
        "import random\n",
        "\n",
        "def simulate_influence(graph, seed_nodes, iterations=100):\n",
        "    max_spread = 0\n",
        "    for _ in range(iterations):\n",
        "        activated = set(seed_nodes)\n",
        "        spread = set(seed_nodes)\n",
        "        for node in seed_nodes:\n",
        "            for neighbor in graph.neighbors(node):\n",
        "                if neighbor not in spread:\n",
        "                    if random.random() < 0.5:  # Assuming a constant probability for influence propagation\n",
        "                        spread.add(neighbor)\n",
        "                        activated.add(neighbor)\n",
        "        spread_size = len(activated)\n",
        "        if spread_size > max_spread:\n",
        "            max_spread = spread_size\n",
        "    return max_spread\n",
        "\n",
        "# Create a graph (you need to define your graph here)\n",
        "graph = nx.Graph()\n",
        "graph.add_edges_from([(0, 1), (1, 2), (1, 3), (2, 4), (3, 4), (4, 5)])\n",
        "\n",
        "# Define the seed nodes for each algorithm\n",
        "celf_nodes = [0, 1, 2, 3, 4]\n",
        "celf_plus_plus_nodes = [0, 56, 116, 173, 216, 275, 297, 324, 370, 435]\n",
        "celfie_nodes = [36, 126, 39, 41, 89, 92, 101, 107, 135, 145]\n",
        "\n",
        "# Call the simulate_influence function for each algorithm\n",
        "max_spread_celf = simulate_influence(graph, celf_nodes)\n",
        "max_spread_celf_plus_plus = simulate_influence(graph, celf_plus_plus_nodes)\n",
        "max_spread_celfie = simulate_influence(graph, celfie_nodes)\n",
        "\n",
        "print(\"Maximum influence spread for CELF:\", max_spread_celf)\n",
        "print(\"Maximum influence spread for CELF++:\", max_spread_celf_plus_plus)\n",
        "print(\"Maximum influence spread for CELFIE:\", max_spread_celfie)\n"
      ]
    }
  ],
  "metadata": {
    "colab": {
      "provenance": [],
      "gpuType": "T4"
    },
    "kernelspec": {
      "display_name": "Python 3",
      "name": "python3"
    },
    "language_info": {
      "codemirror_mode": {
        "name": "ipython",
        "version": 2
      },
      "file_extension": ".py",
      "mimetype": "text/x-python",
      "name": "python",
      "nbconvert_exporter": "python",
      "pygments_lexer": "ipython2",
      "version": "2.7.6"
    },
    "pycharm": {
      "stem_cell": {
        "cell_type": "raw",
        "metadata": {
          "collapsed": false
        },
        "source": []
      }
    },
    "accelerator": "GPU"
  },
  "nbformat": 4,
  "nbformat_minor": 0
}